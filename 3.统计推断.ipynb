{
 "cells": [
  {
   "cell_type": "markdown",
   "metadata": {},
   "source": [
    "# <b>背景</b>\n",
    "\n",
    "目前妊娠期糖尿病（GDM）的诊断依靠糖耐量试验（OGTT），一种葡萄糖负荷试验，用以了解胰岛β细胞功能和机体对血糖的调节能力，是诊断糖尿病的确诊试验。诊断GDM的标准为空腹血糖≥5.1mmol/L，1小时≥10.0mmol/L，2小时大于等于8.5mmol/L。如果空腹血糖≥7.0mmol/L，或者2小时血糖大于≥11.1mmol/L，则诊断为糖尿病DM。\n",
    "\n",
    "糖化血红蛋白（HbA1c）是判断糖尿病患者血糖控制良好与否非常重要的一个指标，可以反映患者近8-12周的血糖控制情况。糖化血红蛋白（HbA1c）在妊娠期没有明确的参考值范围，当HbA1c≥6.5%，则诊断为DM。对于诊断GDM则没有参考值。\n",
    "\n",
    "# <b>任务</b>\n",
    "\n",
    " |前置条件检验 （ 正态性、方差齐性 ）\n",
    "\n",
    " |组间差异显著性检验 （ one-way anova test ）\n",
    "\n",
    " |独立性检验 （ 卡方检验 ）\n",
    "\n",
    " |相关性检验 （ pearson,spearson ）"
   ]
  },
  {
   "cell_type": "markdown",
   "metadata": {},
   "source": [
    "# <b>第一步 引包 </b>"
   ]
  },
  {
   "cell_type": "code",
   "execution_count": 1,
   "metadata": {},
   "outputs": [],
   "source": [
    "#引包：引入所需python包\n",
    "import xlrd\n",
    "import os\n",
    "import re\n",
    "import time\n",
    "import itertools\n",
    "import pandas as pd\n",
    "import numpy as np\n",
    "from numpy import nan\n",
    "from sklearn.metrics import roc_curve,auc\n",
    "from sklearn import linear_model, datasets\n",
    "from sklearn.model_selection import train_test_split\n",
    "import matplotlib as mpl\n",
    "from matplotlib import pyplot as plt\n",
    "import seaborn as sns\n",
    "from statsmodels.formula.api import ols\n",
    "from statsmodels.stats.anova import anova_lm\n",
    "from scipy.stats import mannwhitneyu\n",
    "from scipy.stats import kstest\n",
    "from scipy.stats import chisquare   \n",
    "from scipy.stats import chi2\n",
    "from scipy import stats\n",
    "\n",
    "import warnings\n",
    "warnings.filterwarnings('ignore')"
   ]
  },
  {
   "cell_type": "markdown",
   "metadata": {},
   "source": [
    "# <b>第二步 获取数据源</b>\n",
    "设置默认文件目录\n",
    "\n",
    "读取csv文件"
   ]
  },
  {
   "cell_type": "code",
   "execution_count": 2,
   "metadata": {},
   "outputs": [
    {
     "name": "stdout",
     "output_type": "stream",
     "text": [
      "['clean_data.csv']\n"
     ]
    }
   ],
   "source": [
    "dir = \"./output/\"\n",
    "print(os.listdir(dir))"
   ]
  },
  {
   "cell_type": "code",
   "execution_count": 28,
   "metadata": {},
   "outputs": [
    {
     "data": {
      "text/html": [
       "<div>\n",
       "<style scoped>\n",
       "    .dataframe tbody tr th:only-of-type {\n",
       "        vertical-align: middle;\n",
       "    }\n",
       "\n",
       "    .dataframe tbody tr th {\n",
       "        vertical-align: top;\n",
       "    }\n",
       "\n",
       "    .dataframe thead th {\n",
       "        text-align: right;\n",
       "    }\n",
       "</style>\n",
       "<table border=\"1\" class=\"dataframe\">\n",
       "  <thead>\n",
       "    <tr style=\"text-align: right;\">\n",
       "      <th></th>\n",
       "      <th>INSPECTION_ID</th>\n",
       "      <th>登记号</th>\n",
       "      <th>检查日期</th>\n",
       "      <th>检验目的</th>\n",
       "      <th>审核时间</th>\n",
       "      <th>项目名称</th>\n",
       "      <th>HbA1c</th>\n",
       "      <th>单位</th>\n",
       "      <th>参考值</th>\n",
       "      <th>year</th>\n",
       "      <th>age</th>\n",
       "      <th>age_range</th>\n",
       "      <th>OGTT_date</th>\n",
       "      <th>OGTT_0</th>\n",
       "      <th>OGTT_1</th>\n",
       "      <th>OGTT_2</th>\n",
       "      <th>STATUS</th>\n",
       "    </tr>\n",
       "  </thead>\n",
       "  <tbody>\n",
       "    <tr>\n",
       "      <th>107</th>\n",
       "      <td>20160104G0460006</td>\n",
       "      <td>20422685.0</td>\n",
       "      <td>20160104</td>\n",
       "      <td>糖化血红蛋白</td>\n",
       "      <td>2016-01-04 12:16:12</td>\n",
       "      <td>糖化血红蛋白A1c</td>\n",
       "      <td>5.5</td>\n",
       "      <td>%</td>\n",
       "      <td>4.1-6.8</td>\n",
       "      <td>2016</td>\n",
       "      <td>29</td>\n",
       "      <td>(22.0, 30.0]</td>\n",
       "      <td>20160104</td>\n",
       "      <td>4.9</td>\n",
       "      <td>8.4</td>\n",
       "      <td>7.4</td>\n",
       "      <td>health</td>\n",
       "    </tr>\n",
       "    <tr>\n",
       "      <th>219</th>\n",
       "      <td>20160107G0460006</td>\n",
       "      <td>20185957.0</td>\n",
       "      <td>20160107</td>\n",
       "      <td>糖化血红蛋白</td>\n",
       "      <td>2016-01-07 14:43:57</td>\n",
       "      <td>糖化血红蛋白A1c</td>\n",
       "      <td>5.2</td>\n",
       "      <td>%</td>\n",
       "      <td>4.1-6.8</td>\n",
       "      <td>2016</td>\n",
       "      <td>36</td>\n",
       "      <td>(35.0, 42.0]</td>\n",
       "      <td>20160107</td>\n",
       "      <td>4.8</td>\n",
       "      <td>7.4</td>\n",
       "      <td>5.3</td>\n",
       "      <td>health</td>\n",
       "    </tr>\n",
       "  </tbody>\n",
       "</table>\n",
       "</div>"
      ],
      "text/plain": [
       "        INSPECTION_ID         登记号      检查日期    检验目的                 审核时间  \\\n",
       "107  20160104G0460006  20422685.0  20160104  糖化血红蛋白  2016-01-04 12:16:12   \n",
       "219  20160107G0460006  20185957.0  20160107  糖化血红蛋白  2016-01-07 14:43:57   \n",
       "\n",
       "          项目名称  HbA1c 单位      参考值  year  age     age_range  OGTT_date  OGTT_0  \\\n",
       "107  糖化血红蛋白A1c    5.5  %  4.1-6.8  2016   29  (22.0, 30.0]   20160104     4.9   \n",
       "219  糖化血红蛋白A1c    5.2  %  4.1-6.8  2016   36  (35.0, 42.0]   20160107     4.8   \n",
       "\n",
       "     OGTT_1  OGTT_2  STATUS  \n",
       "107     8.4     7.4  health  \n",
       "219     7.4     5.3  health  "
      ]
     },
     "execution_count": 28,
     "metadata": {},
     "output_type": "execute_result"
    }
   ],
   "source": [
    "HbA1c_ref = pd.read_csv(dir+\"clean_data.csv\",index_col=0) #第一列为行索引\n",
    "HbA1c_ref = HbA1c_ref.drop(columns = HbA1c_ref.columns[0]) #删除不需要的列\n",
    "HbA1c_ref.head(2)"
   ]
  },
  {
   "cell_type": "markdown",
   "metadata": {},
   "source": [
    "# <b> 第三步 统计推断 </b>\n",
    "\n",
    "统计推断任务是先根据实际情况提出原假设H0与备择假设H1，然后寻找适当的检验统计量进行假设检验。\n",
    "\n",
    "### <b> 3.1 前提条件检验 </b>\n",
    "\n",
    "在进行一些检验前，一般都有些前提条件,我们可以首先对这些条件进行检验，方便后面检验方法的选择和使用。一般的前提条件是：正态性和方差齐性。\n",
    "\n",
    "正态和方差齐性检验用于了解组间的差异，以及服务于后面的检验方法的选择：\n",
    "\n",
    "正态性检验 ： 利用观测数据判断总体是否服从正态分布的检验称为正态性检验，它是统计判决中重要的一种特殊的拟合优度假设检验。\n",
    "                H0 : 总体服从正态分布  H1: 总体不服从正态分布\n",
    "            P 值 ≤ α：数据不服从正态分布（否定 H0）\n",
    "               如果 p 值小于或等于显著性水平，则决策为否定原假设并得出数据不服从正态分布的结论。\n",
    "            P 值 > α：您无法得出数据不服从正态分布的结论（无法否定 H0）\n",
    "            \n",
    "方差齐性检验 ： 是数理统计学中检查不同样本的总体方差是否相同的一种方法。其基本原理是先对总体的特征作出某种假设，然后通过抽样研究的统计推理，对此假设应该被拒绝还是接受作出推断。\n",
    "                H0 : 方差齐性/整齐  H1: 方差不整齐\n",
    "            P 值 ≤ α：数据方差不整齐（否定 H0）\n",
    "   如果 p 值小于或等于显著性水平，则决策为否定原假设并得出各组数据方差不整齐的结论。  \n",
    "   P 值 > α：您无法得出数据方差不整齐的结论（无法否定 H0）"
   ]
  },
  {
   "cell_type": "code",
   "execution_count": 29,
   "metadata": {},
   "outputs": [
    {
     "name": "stdout",
     "output_type": "stream",
     "text": [
      "3个组一起的总体检验：\n",
      "\n",
      "age 正态性检验: KstestResult(statistic=1.0, pvalue=0.0)\n",
      "age 方差齐性检验 :statistic= 4.447404339601408 ,pvalue= 0.011732475113110012\n",
      "HbA1c 正态性检验: KstestResult(statistic=0.9995614343891661, pvalue=0.0)\n",
      "HbA1c 方差齐性检验 :statistic= 48.29476853277005 ,pvalue= 1.3432670259868527e-21\n",
      "OGTT_0 正态性检验: KstestResult(statistic=0.9994596533217927, pvalue=0.0)\n",
      "OGTT_0 方差齐性检验 :statistic= 878.0037998471173 ,pvalue= 0.0\n",
      "OGTT_1 正态性检验: KstestResult(statistic=0.9991154276312125, pvalue=0.0)\n",
      "OGTT_1 方差齐性检验 :statistic= 23.145263652549552 ,pvalue= 9.379548607063297e-11\n",
      "OGTT_2 正态性检验: KstestResult(statistic=0.9991429563096625, pvalue=0.0)\n",
      "OGTT_2 方差齐性检验 :statistic= 69.0461555430269 ,pvalue= 1.687052022382083e-30\n"
     ]
    }
   ],
   "source": [
    "print (\"3个组一起的总体检验：\\n\")\n",
    "for col in [\"age\",\"HbA1c\",\"OGTT_0\",\"OGTT_1\",\"OGTT_2\"]:\n",
    "    col1 = HbA1c_ref[col].dropna(axis = 0)\n",
    "    vp = kstest(col1, 'norm')    # 正态性检验\n",
    "    print (col,\"正态性检验:\" ,vp) \n",
    "    \n",
    "    test = HbA1c_ref[~np.isnan(HbA1c_ref[col])]\n",
    "    group1 = test[test[\"STATUS\"] ==\"health\"][col]\n",
    "    group2 = test[test[\"STATUS\"] ==\"GDM\"][col]\n",
    "    group3 = test[test[\"STATUS\"] ==\"DM\"][col]\n",
    "    args =[group1,group2,group3]\n",
    "    w,p = stats.levene(*args)  #center = \"trimmed\"离差\n",
    "    print (col,\"方差齐性检验 :statistic=\",w,\",pvalue=\",p)   \n",
    "#statistic 越大 ，pvalue越小"
   ]
  },
  {
   "cell_type": "markdown",
   "metadata": {},
   "source": [
    "从结果来看：不同健康人群组间“年龄”、HbA1c1和OGTT检测结果正态性和方差齐性不满足。\n",
    "\n",
    "### <b> 3.2 组间差异显著性检验 </b>\n",
    "<b> 1) 单因素方差分析  </b>\n",
    "\n",
    "单因素方差分析(one-way anova test) :是指对单因素试验结果进行分析，检验因素对试验结果有无显著性影响的方法。\n",
    "H0 : 组间差异不显著，p > α ； H1： 组间差异显著 ，p < α，否定原假设\n",
    "\n",
    "前提条件：服从正态分布，且方差相同。"
   ]
  },
  {
   "cell_type": "code",
   "execution_count": 30,
   "metadata": {},
   "outputs": [
    {
     "data": {
      "text/html": [
       "<div>\n",
       "<style scoped>\n",
       "    .dataframe tbody tr th:only-of-type {\n",
       "        vertical-align: middle;\n",
       "    }\n",
       "\n",
       "    .dataframe tbody tr th {\n",
       "        vertical-align: top;\n",
       "    }\n",
       "\n",
       "    .dataframe thead th {\n",
       "        text-align: right;\n",
       "    }\n",
       "</style>\n",
       "<table border=\"1\" class=\"dataframe\">\n",
       "  <thead>\n",
       "    <tr style=\"text-align: right;\">\n",
       "      <th></th>\n",
       "      <th>sum_sq</th>\n",
       "      <th>df</th>\n",
       "      <th>F</th>\n",
       "      <th>PR(&gt;F)</th>\n",
       "    </tr>\n",
       "  </thead>\n",
       "  <tbody>\n",
       "    <tr>\n",
       "      <th>age</th>\n",
       "      <td>4725.521712</td>\n",
       "      <td>2.0</td>\n",
       "      <td>146.747589</td>\n",
       "      <td>1.587344e-63</td>\n",
       "    </tr>\n",
       "    <tr>\n",
       "      <th>HbA1c</th>\n",
       "      <td>110.983802</td>\n",
       "      <td>2.0</td>\n",
       "      <td>423.652585</td>\n",
       "      <td>3.214937e-177</td>\n",
       "    </tr>\n",
       "    <tr>\n",
       "      <th>OGTT_0</th>\n",
       "      <td>641.140794</td>\n",
       "      <td>2.0</td>\n",
       "      <td>2467.295430</td>\n",
       "      <td>0.000000e+00</td>\n",
       "    </tr>\n",
       "    <tr>\n",
       "      <th>OGTT_1</th>\n",
       "      <td>12524.224427</td>\n",
       "      <td>2.0</td>\n",
       "      <td>3303.281016</td>\n",
       "      <td>0.000000e+00</td>\n",
       "    </tr>\n",
       "    <tr>\n",
       "      <th>OGTT_2</th>\n",
       "      <td>10670.324906</td>\n",
       "      <td>2.0</td>\n",
       "      <td>4682.052568</td>\n",
       "      <td>0.000000e+00</td>\n",
       "    </tr>\n",
       "  </tbody>\n",
       "</table>\n",
       "</div>"
      ],
      "text/plain": [
       "              sum_sq   df            F         PR(>F)\n",
       "age      4725.521712  2.0   146.747589   1.587344e-63\n",
       "HbA1c     110.983802  2.0   423.652585  3.214937e-177\n",
       "OGTT_0    641.140794  2.0  2467.295430   0.000000e+00\n",
       "OGTT_1  12524.224427  2.0  3303.281016   0.000000e+00\n",
       "OGTT_2  10670.324906  2.0  4682.052568   0.000000e+00"
      ]
     },
     "execution_count": 30,
     "metadata": {},
     "output_type": "execute_result"
    }
   ],
   "source": [
    "# one way anova\n",
    "import statsmodels.api as sm\n",
    "from statsmodels.formula.api import ols\n",
    "result = pd.DataFrame()\n",
    "for col in [\"age\",\"HbA1c\",\"OGTT_0\",\"OGTT_1\",\"OGTT_2\"]: \n",
    "    mod = ols(col+' ~ STATUS',data=HbA1c_ref).fit()\n",
    "    aov_table = sm.stats.anova_lm(mod, typ=2)\n",
    "    line = pd.DataFrame(aov_table)\n",
    "    result = result.append(line)\n",
    "result = result.drop(\"Residual\")\n",
    "result.index = [\"age\",\"HbA1c\",\"OGTT_0\",\"OGTT_1\",\"OGTT_2\"]\n",
    "result"
   ]
  },
  {
   "cell_type": "markdown",
   "metadata": {},
   "source": [
    "从结果来看：组间年龄和测试结果的差异显著，但因ANOVA的前提条件正态性和方差性不满足，该结果不可靠。\n",
    "\n",
    "需要选用其他检验方法。\n",
    "\n",
    "<b> 2) 非参数检验 </b>\n",
    "\n",
    "Wilcoxon秩和检验（或Mann–Whitney U检验）\n",
    "\n",
    "目的：检验两组独立样本的是否存在差异性\n",
    "\n",
    "假设：H0: 两总体分布中心位置相同\n",
    "\n",
    "     H1: 两总体分布中心位置不同"
   ]
  },
  {
   "cell_type": "code",
   "execution_count": 31,
   "metadata": {},
   "outputs": [
    {
     "name": "stdout",
     "output_type": "stream",
     "text": [
      "3个组两两配对的检验：\n",
      "\n"
     ]
    },
    {
     "data": {
      "text/html": [
       "<div>\n",
       "<style scoped>\n",
       "    .dataframe tbody tr th:only-of-type {\n",
       "        vertical-align: middle;\n",
       "    }\n",
       "\n",
       "    .dataframe tbody tr th {\n",
       "        vertical-align: top;\n",
       "    }\n",
       "\n",
       "    .dataframe thead th {\n",
       "        text-align: right;\n",
       "    }\n",
       "</style>\n",
       "<table border=\"1\" class=\"dataframe\">\n",
       "  <thead>\n",
       "    <tr style=\"text-align: right;\">\n",
       "      <th></th>\n",
       "      <th>组</th>\n",
       "      <th>变量</th>\n",
       "      <th>U检验 统计值</th>\n",
       "      <th>p值(a=0.05)</th>\n",
       "      <th>推断</th>\n",
       "    </tr>\n",
       "  </thead>\n",
       "  <tbody>\n",
       "    <tr>\n",
       "      <th>0</th>\n",
       "      <td>(health, GDM)</td>\n",
       "      <td>age</td>\n",
       "      <td>27285336.5</td>\n",
       "      <td>2.375422e-01</td>\n",
       "      <td>无差异</td>\n",
       "    </tr>\n",
       "    <tr>\n",
       "      <th>0</th>\n",
       "      <td>(health, DM)</td>\n",
       "      <td>age</td>\n",
       "      <td>34003840.5</td>\n",
       "      <td>2.548956e-08</td>\n",
       "      <td>组间有差异</td>\n",
       "    </tr>\n",
       "    <tr>\n",
       "      <th>0</th>\n",
       "      <td>(GDM, DM)</td>\n",
       "      <td>age</td>\n",
       "      <td>9771880.5</td>\n",
       "      <td>1.874928e-30</td>\n",
       "      <td>组间有差异</td>\n",
       "    </tr>\n",
       "    <tr>\n",
       "      <th>0</th>\n",
       "      <td>(health, GDM)</td>\n",
       "      <td>HbA1c</td>\n",
       "      <td>27193441.0</td>\n",
       "      <td>1.424855e-01</td>\n",
       "      <td>无差异</td>\n",
       "    </tr>\n",
       "    <tr>\n",
       "      <th>0</th>\n",
       "      <td>(health, DM)</td>\n",
       "      <td>HbA1c</td>\n",
       "      <td>32912535.0</td>\n",
       "      <td>3.087872e-19</td>\n",
       "      <td>组间有差异</td>\n",
       "    </tr>\n",
       "    <tr>\n",
       "      <th>0</th>\n",
       "      <td>(GDM, DM)</td>\n",
       "      <td>HbA1c</td>\n",
       "      <td>8680575.0</td>\n",
       "      <td>1.298714e-77</td>\n",
       "      <td>组间有差异</td>\n",
       "    </tr>\n",
       "    <tr>\n",
       "      <th>0</th>\n",
       "      <td>(health, GDM)</td>\n",
       "      <td>OGTT_0</td>\n",
       "      <td>27058806.5</td>\n",
       "      <td>7.371986e-02</td>\n",
       "      <td>无差异</td>\n",
       "    </tr>\n",
       "    <tr>\n",
       "      <th>0</th>\n",
       "      <td>(health, DM)</td>\n",
       "      <td>OGTT_0</td>\n",
       "      <td>30181567.5</td>\n",
       "      <td>8.859677e-68</td>\n",
       "      <td>组间有差异</td>\n",
       "    </tr>\n",
       "    <tr>\n",
       "      <th>0</th>\n",
       "      <td>(GDM, DM)</td>\n",
       "      <td>OGTT_0</td>\n",
       "      <td>5981628.0</td>\n",
       "      <td>6.883868e-289</td>\n",
       "      <td>组间有差异</td>\n",
       "    </tr>\n",
       "    <tr>\n",
       "      <th>0</th>\n",
       "      <td>(health, GDM)</td>\n",
       "      <td>OGTT_1</td>\n",
       "      <td>25771281.5</td>\n",
       "      <td>4.547973e-02</td>\n",
       "      <td>组间有差异</td>\n",
       "    </tr>\n",
       "  </tbody>\n",
       "</table>\n",
       "</div>"
      ],
      "text/plain": [
       "               组     变量      U检验 统计值     p值(a=0.05)     推断\n",
       "0  (health, GDM)     age  27285336.5   2.375422e-01    无差异\n",
       "0   (health, DM)     age  34003840.5   2.548956e-08  组间有差异\n",
       "0      (GDM, DM)     age   9771880.5   1.874928e-30  组间有差异\n",
       "0  (health, GDM)   HbA1c  27193441.0   1.424855e-01    无差异\n",
       "0   (health, DM)   HbA1c  32912535.0   3.087872e-19  组间有差异\n",
       "0      (GDM, DM)   HbA1c   8680575.0   1.298714e-77  组间有差异\n",
       "0  (health, GDM)  OGTT_0  27058806.5   7.371986e-02    无差异\n",
       "0   (health, DM)  OGTT_0  30181567.5   8.859677e-68  组间有差异\n",
       "0      (GDM, DM)  OGTT_0   5981628.0  6.883868e-289  组间有差异\n",
       "0  (health, GDM)  OGTT_1  25771281.5   4.547973e-02  组间有差异"
      ]
     },
     "execution_count": 31,
     "metadata": {},
     "output_type": "execute_result"
    }
   ],
   "source": [
    "print (\"3个组两两配对的检验：\\n\")\n",
    "result = pd.DataFrame()\n",
    "for col in [\"age\",\"HbA1c\",\"OGTT_0\",\"OGTT_1\",\"OGTT_2\"]:\n",
    "    for i in itertools.combinations([\"health\",\"GDM\",\"DM\"],2):\n",
    "        test = HbA1c_ref[~np.isnan(HbA1c_ref[col])]        \n",
    "        data1 = test.loc[test[\"STATUS\"] == i[0] , col].values\n",
    "        data2 = test.loc[~(test[\"STATUS\"] == i[1]) , col].values                \n",
    "        s,p= mannwhitneyu(data1,data2)\n",
    "        line = [(i,col,s,p)]\n",
    "        result = result.append(line)\n",
    "result.columns = [\"组\",\" 变量 \",\"U检验 统计值\",\"p值(a=0.05)\"]        \n",
    "result[\"推断\"] =[ \"组间有差异\" if x<0.05 else \"无差异\"  for x in  result[\"p值(a=0.05)\"] ]      #,  \n",
    "result.head(10)\n",
    "#中位数，四分位数"
   ]
  },
  {
   "cell_type": "markdown",
   "metadata": {},
   "source": [
    "### <b> 3.3 独立性检验 </b>\n",
    "\n",
    "基于卡方的独立性检验\n",
    "\n",
    "\n",
    "目的：检验单个多项分类名义型变量各分类间的实际观测次数与理论次数之间是否一致的问题\n",
    "\n",
    "前提条件：对正态性和方差齐性没要求\n",
    "\n",
    "假设：\n",
    "            H0 : 类别A与B的比例没有差异\n",
    "            \n",
    "            H1 : 类别A与B的比例有差异\n",
    "            \n",
    "<b> 1) 不同年龄组的检验 \n",
    "    先计算列联表"
   ]
  },
  {
   "cell_type": "code",
   "execution_count": 32,
   "metadata": {},
   "outputs": [
    {
     "data": {
      "text/html": [
       "<div>\n",
       "<style scoped>\n",
       "    .dataframe tbody tr th:only-of-type {\n",
       "        vertical-align: middle;\n",
       "    }\n",
       "\n",
       "    .dataframe tbody tr th {\n",
       "        vertical-align: top;\n",
       "    }\n",
       "\n",
       "    .dataframe thead th {\n",
       "        text-align: right;\n",
       "    }\n",
       "</style>\n",
       "<table border=\"1\" class=\"dataframe\">\n",
       "  <thead>\n",
       "    <tr style=\"text-align: right;\">\n",
       "      <th>STATUS</th>\n",
       "      <th>DM</th>\n",
       "      <th>GDM</th>\n",
       "      <th>health</th>\n",
       "      <th>DM%</th>\n",
       "      <th>GDM%</th>\n",
       "    </tr>\n",
       "    <tr>\n",
       "      <th>age_range</th>\n",
       "      <th></th>\n",
       "      <th></th>\n",
       "      <th></th>\n",
       "      <th></th>\n",
       "      <th></th>\n",
       "    </tr>\n",
       "  </thead>\n",
       "  <tbody>\n",
       "    <tr>\n",
       "      <th>(0.0, 22.0]</th>\n",
       "      <td>0</td>\n",
       "      <td>10</td>\n",
       "      <td>116</td>\n",
       "      <td>0.000000</td>\n",
       "      <td>7.936508</td>\n",
       "    </tr>\n",
       "    <tr>\n",
       "      <th>(22.0, 30.0]</th>\n",
       "      <td>29</td>\n",
       "      <td>1035</td>\n",
       "      <td>4192</td>\n",
       "      <td>0.551750</td>\n",
       "      <td>19.691781</td>\n",
       "    </tr>\n",
       "    <tr>\n",
       "      <th>(30.0, 35.0]</th>\n",
       "      <td>53</td>\n",
       "      <td>936</td>\n",
       "      <td>2385</td>\n",
       "      <td>1.570836</td>\n",
       "      <td>27.741553</td>\n",
       "    </tr>\n",
       "    <tr>\n",
       "      <th>(35.0, 42.0]</th>\n",
       "      <td>36</td>\n",
       "      <td>363</td>\n",
       "      <td>644</td>\n",
       "      <td>3.451582</td>\n",
       "      <td>34.803452</td>\n",
       "    </tr>\n",
       "    <tr>\n",
       "      <th>(42.0, 50.0]</th>\n",
       "      <td>1</td>\n",
       "      <td>23</td>\n",
       "      <td>16</td>\n",
       "      <td>2.500000</td>\n",
       "      <td>57.500000</td>\n",
       "    </tr>\n",
       "  </tbody>\n",
       "</table>\n",
       "</div>"
      ],
      "text/plain": [
       "STATUS        DM   GDM  health       DM%       GDM%\n",
       "age_range                                          \n",
       "(0.0, 22.0]    0    10     116  0.000000   7.936508\n",
       "(22.0, 30.0]  29  1035    4192  0.551750  19.691781\n",
       "(30.0, 35.0]  53   936    2385  1.570836  27.741553\n",
       "(35.0, 42.0]  36   363     644  3.451582  34.803452\n",
       "(42.0, 50.0]   1    23      16  2.500000  57.500000"
      ]
     },
     "execution_count": 32,
     "metadata": {},
     "output_type": "execute_result"
    }
   ],
   "source": [
    "HbA1c_ref[\"count\"] = 1\n",
    "stat_age_range= HbA1c_ref.pivot_table(index= \"age_range\",columns = \"STATUS\",values=\"count\", aggfunc =len,fill_value=0  )\n",
    "#stat_age_range.loc[\"total\"]=[sum(stat_age_range[\"DM\"]),sum(stat_age_range[\"GDM\"]),sum(stat_age_range[\"health\"])]\n",
    "stat_age_range[\"DM%\"] = stat_age_range[\"DM\"]/(stat_age_range[\"DM\"]+stat_age_range[\"GDM\"]+stat_age_range[\"health\"])*100\n",
    "stat_age_range[\"GDM%\"] = stat_age_range[\"GDM\"]/(stat_age_range[\"DM\"]+stat_age_range[\"GDM\"]+stat_age_range[\"health\"])*100\n",
    "stat_age_range"
   ]
  },
  {
   "cell_type": "code",
   "execution_count": 33,
   "metadata": {},
   "outputs": [
    {
     "name": "stdout",
     "output_type": "stream",
     "text": [
      "三组的占比的卡方检验  ： \n",
      "\n",
      "[1.48623907e-104 0.00000000e+000 0.00000000e+000]\n"
     ]
    }
   ],
   "source": [
    "data = stat_age_range.iloc[0:5:,3:5]   #构成比例\n",
    "data[\"health%\"] = 100-data[\"DM%\"]-data[\"GDM%\"]\n",
    "data = (data*100).astype(\"int\")\n",
    "chis,p_value = chisquare(data)   #整体\n",
    "print(\"三组的占比的卡方检验  ： \\n\")\n",
    "print(p_value)"
   ]
  },
  {
   "cell_type": "markdown",
   "metadata": {},
   "source": [
    "在α = 0.05水平上，不同年龄组中DM、GDM和health占比差异显著"
   ]
  },
  {
   "cell_type": "code",
   "execution_count": 34,
   "metadata": {},
   "outputs": [
    {
     "name": "stdout",
     "output_type": "stream",
     "text": [
      "占比（患病率）的卡方检验  ： \n",
      "\n"
     ]
    },
    {
     "data": {
      "text/html": [
       "<div>\n",
       "<style scoped>\n",
       "    .dataframe tbody tr th:only-of-type {\n",
       "        vertical-align: middle;\n",
       "    }\n",
       "\n",
       "    .dataframe tbody tr th {\n",
       "        vertical-align: top;\n",
       "    }\n",
       "\n",
       "    .dataframe thead th {\n",
       "        text-align: right;\n",
       "    }\n",
       "</style>\n",
       "<table border=\"1\" class=\"dataframe\">\n",
       "  <thead>\n",
       "    <tr style=\"text-align: right;\">\n",
       "      <th></th>\n",
       "      <th>组1</th>\n",
       "      <th>组2</th>\n",
       "      <th>DM p值</th>\n",
       "      <th>GDM p值</th>\n",
       "      <th>health p值</th>\n",
       "    </tr>\n",
       "  </thead>\n",
       "  <tbody>\n",
       "    <tr>\n",
       "      <th>0</th>\n",
       "      <td>(22.0, 30.0]</td>\n",
       "      <td>(30.0, 35.0]</td>\n",
       "      <td>2.463010e-12</td>\n",
       "      <td>1.454549e-31</td>\n",
       "      <td>1.413742e-13</td>\n",
       "    </tr>\n",
       "    <tr>\n",
       "      <th>0</th>\n",
       "      <td>(22.0, 30.0]</td>\n",
       "      <td>(35.0, 42.0]</td>\n",
       "      <td>1.211499e-47</td>\n",
       "      <td>4.031885e-93</td>\n",
       "      <td>8.705398e-52</td>\n",
       "    </tr>\n",
       "    <tr>\n",
       "      <th>0</th>\n",
       "      <td>(30.0, 35.0]</td>\n",
       "      <td>(35.0, 42.0]</td>\n",
       "      <td>4.826372e-17</td>\n",
       "      <td>4.360758e-19</td>\n",
       "      <td>7.915727e-15</td>\n",
       "    </tr>\n",
       "  </tbody>\n",
       "</table>\n",
       "</div>"
      ],
      "text/plain": [
       "             组1            组2         DM p值        GDM p值     health p值\n",
       "0  (22.0, 30.0]  (30.0, 35.0]  2.463010e-12  1.454549e-31  1.413742e-13\n",
       "0  (22.0, 30.0]  (35.0, 42.0]  1.211499e-47  4.031885e-93  8.705398e-52\n",
       "0  (30.0, 35.0]  (35.0, 42.0]  4.826372e-17  4.360758e-19  7.915727e-15"
      ]
     },
     "execution_count": 34,
     "metadata": {},
     "output_type": "execute_result"
    }
   ],
   "source": [
    "ages = ['(22.0, 30.0]', '(30.0, 35.0]','(35.0, 42.0]']\n",
    "result = pd.DataFrame()\n",
    "\n",
    "print(\"占比（患病率）的卡方检验  ： \\n\")\n",
    "for i in itertools.combinations(ages,2):\n",
    "    test = data[(data.index ==i[0]) | (data.index ==i[1]) ]   \n",
    "    #chi2_fitting(data,0.05)\n",
    "    chis,p_value = chisquare(test)\n",
    "    line = [(i[0],i[1],p_value[0],p_value[1],p_value[2])]\n",
    "    result = result.append(line)\n",
    "result.columns = [\"组1\",\" 组2\",\"DM p值\",\"GDM p值\" ,\"health p值\"]    \n",
    "result.head(4)"
   ]
  },
  {
   "cell_type": "markdown",
   "metadata": {},
   "source": [
    "从结果来看：不同年龄组之间患病率呈显著性差异，非独立。\n",
    "\n",
    "###  <b> 3.4 相关性检验  </b>\n",
    "\n",
    "检验HbAc1是否和年龄、OGTT等检测结果有相关性。\n",
    "\n",
    "方法： pearson检验,前提条件数据符合正态分布\n",
    "\n",
    "       spearman检验，无前提条件因此，本文中spearman更适合\n",
    "       \n",
    "假设：H0：ρ=0（相关系数ρ=0的总体中抽出的样本），H1：ρ≠0 \n",
    "\n",
    "<b> 1) 计算相关系数 </b>"
   ]
  },
  {
   "cell_type": "code",
   "execution_count": 35,
   "metadata": {},
   "outputs": [
    {
     "data": {
      "text/html": [
       "<div>\n",
       "<style scoped>\n",
       "    .dataframe tbody tr th:only-of-type {\n",
       "        vertical-align: middle;\n",
       "    }\n",
       "\n",
       "    .dataframe tbody tr th {\n",
       "        vertical-align: top;\n",
       "    }\n",
       "\n",
       "    .dataframe thead th {\n",
       "        text-align: right;\n",
       "    }\n",
       "</style>\n",
       "<table border=\"1\" class=\"dataframe\">\n",
       "  <thead>\n",
       "    <tr style=\"text-align: right;\">\n",
       "      <th></th>\n",
       "      <th>HbA1c</th>\n",
       "      <th>OGTT_0</th>\n",
       "      <th>OGTT_1</th>\n",
       "      <th>OGTT_2</th>\n",
       "      <th>age</th>\n",
       "    </tr>\n",
       "  </thead>\n",
       "  <tbody>\n",
       "    <tr>\n",
       "      <th>HbA1c</th>\n",
       "      <td>1.000000</td>\n",
       "      <td>0.345637</td>\n",
       "      <td>0.282016</td>\n",
       "      <td>0.294639</td>\n",
       "      <td>0.159209</td>\n",
       "    </tr>\n",
       "    <tr>\n",
       "      <th>OGTT_0</th>\n",
       "      <td>0.345637</td>\n",
       "      <td>1.000000</td>\n",
       "      <td>0.479659</td>\n",
       "      <td>0.469996</td>\n",
       "      <td>0.157027</td>\n",
       "    </tr>\n",
       "    <tr>\n",
       "      <th>OGTT_1</th>\n",
       "      <td>0.282016</td>\n",
       "      <td>0.479659</td>\n",
       "      <td>1.000000</td>\n",
       "      <td>0.727076</td>\n",
       "      <td>0.221067</td>\n",
       "    </tr>\n",
       "    <tr>\n",
       "      <th>OGTT_2</th>\n",
       "      <td>0.294639</td>\n",
       "      <td>0.469996</td>\n",
       "      <td>0.727076</td>\n",
       "      <td>1.000000</td>\n",
       "      <td>0.216008</td>\n",
       "    </tr>\n",
       "    <tr>\n",
       "      <th>age</th>\n",
       "      <td>0.159209</td>\n",
       "      <td>0.157027</td>\n",
       "      <td>0.221067</td>\n",
       "      <td>0.216008</td>\n",
       "      <td>1.000000</td>\n",
       "    </tr>\n",
       "  </tbody>\n",
       "</table>\n",
       "</div>"
      ],
      "text/plain": [
       "           HbA1c    OGTT_0    OGTT_1    OGTT_2       age\n",
       "HbA1c   1.000000  0.345637  0.282016  0.294639  0.159209\n",
       "OGTT_0  0.345637  1.000000  0.479659  0.469996  0.157027\n",
       "OGTT_1  0.282016  0.479659  1.000000  0.727076  0.221067\n",
       "OGTT_2  0.294639  0.469996  0.727076  1.000000  0.216008\n",
       "age     0.159209  0.157027  0.221067  0.216008  1.000000"
      ]
     },
     "execution_count": 35,
     "metadata": {},
     "output_type": "execute_result"
    }
   ],
   "source": [
    "test = HbA1c_ref.filter(items=[\"HbA1c\",\"OGTT_0\",\"OGTT_1\",\"OGTT_2\",\"age\"])  #\n",
    "test=test.corr()   #test.corr()[\"HbA1c\"]\n",
    "test"
   ]
  },
  {
   "cell_type": "markdown",
   "metadata": {},
   "source": [
    "<b>2） 相关性检验 </b>"
   ]
  },
  {
   "cell_type": "code",
   "execution_count": 36,
   "metadata": {},
   "outputs": [
    {
     "name": "stdout",
     "output_type": "stream",
     "text": [
      "各检查结果相关性检验  ： \n",
      "\n",
      "('HbA1c', 'OGTT_0') 的Pearson相关性系数 0.34563711209853953 和P_value : 6.256449504115339e-274\n",
      "('HbA1c', 'OGTT_0') 的Spearman相关性系数 0.28886311658369496 和P_value : 2.889848480419551e-188\n",
      "('HbA1c', 'OGTT_1') 的Pearson相关性系数 0.28201577754110796 和P_value : 7.125809822852736e-176\n",
      "('HbA1c', 'OGTT_1') 的Spearman相关性系数 0.24775126044068538 和P_value : 6.577590396441371e-135\n",
      "('HbA1c', 'OGTT_2') 的Pearson相关性系数 0.29463927124311695 和P_value : 9.796825036704723e-192\n",
      "('HbA1c', 'OGTT_2') 的Spearman相关性系数 0.26182075289726864 和P_value : 2.2369907048759633e-150\n",
      "('OGTT_0', 'OGTT_1') 的Pearson相关性系数 0.4796590752586375 和P_value : 0.0\n",
      "('OGTT_0', 'OGTT_1') 的Spearman相关性系数 0.38046764193024635 和P_value : 0.0\n",
      "('OGTT_0', 'OGTT_2') 的Pearson相关性系数 0.4699957338425628 和P_value : 0.0\n",
      "('OGTT_0', 'OGTT_2') 的Spearman相关性系数 0.36109771335453106 和P_value : 1.2789459189541954e-293\n",
      "('OGTT_1', 'OGTT_2') 的Pearson相关性系数 0.7270761206068339 和P_value : 0.0\n",
      "('OGTT_1', 'OGTT_2') 的Spearman相关性系数 0.6843436630115042 和P_value : 0.0\n"
     ]
    }
   ],
   "source": [
    "fields = [\"HbA1c\",\"OGTT_0\",\"OGTT_1\",\"OGTT_2\"]\n",
    "print(\"各检查结果相关性检验  ： \\n\")\n",
    "for i in itertools.combinations(fields,2):\n",
    "   \n",
    "    x1 = HbA1c_ref[i[0]] \n",
    "    y1 = HbA1c_ref[i[1]]\n",
    "    x = x1[x1.notnull() & y1.notnull() ] \n",
    "    y = y1[x1.notnull() & y1.notnull() ]    \n",
    "    stat_val, p_val = stats.ttest_ind(x, y, equal_var=False)\n",
    "\n",
    "    r, p=stats.pearsonr(x,y)\n",
    "    print(i ,\"的Pearson相关性系数\",r,\"和P_value :\",p)   \n",
    "    r , p =stats.spearmanr(x,y)    \n",
    "    print(i ,\"的Spearman相关性系数\",r,\"和P_value :\",p)  "
   ]
  },
  {
   "cell_type": "markdown",
   "metadata": {},
   "source": []
  },
  {
   "cell_type": "markdown",
   "metadata": {},
   "source": [
    "从spearman结果来看：p值都是极小值，各个检查结果之间相关性具有统计学意义。 \n",
    "\n",
    "<b> 3) 可视化 </b>\n",
    "\n",
    "可以通过图表来直观了解数据直接的关系。\n",
    "\n",
    "热力图"
   ]
  },
  {
   "cell_type": "code",
   "execution_count": 37,
   "metadata": {},
   "outputs": [
    {
     "data": {
      "image/png": "[encoded data removed]",
      "text/plain": [
       "<Figure size 864x864 with 2 Axes>"
      ]
     },
     "metadata": {
      "needs_background": "light"
     },
     "output_type": "display_data"
    }
   ],
   "source": [
    "plt.subplots(figsize=(12, 12)) # 设置画面大小\n",
    "sns.heatmap(test, annot=True, vmax=1, square=True, cmap=\"Blues\")\n",
    "plt.show()"
   ]
  },
  {
   "cell_type": "markdown",
   "metadata": {},
   "source": [
    "散点图"
   ]
  },
  {
   "cell_type": "code",
   "execution_count": 38,
   "metadata": {},
   "outputs": [
    {
     "data": {
      "image/png": "[encoded data removed]",
      "text/plain": [
       "<Figure size 720x576 with 1 Axes>"
      ]
     },
     "metadata": {
      "needs_background": "light"
     },
     "output_type": "display_data"
    }
   ],
   "source": [
    "plt.subplots(figsize=(10, 8))\n",
    "x = HbA1c_ref[\"age\"]\n",
    "y = HbA1c_ref[\"OGTT_1\"]\n",
    "plt.scatter(x, y, alpha=0.6)  # 绘制散点图，透明度为0.6（这样颜色浅一点，比较好看）\n",
    "plt.show()"
   ]
  },
  {
   "cell_type": "code",
   "execution_count": null,
   "metadata": {},
   "outputs": [],
   "source": []
  }
 ],
 "metadata": {
  "kernelspec": {
   "display_name": "Python 3",
   "language": "python",
   "name": "python3"
  },
  "language_info": {
   "codemirror_mode": {
    "name": "ipython",
    "version": 3
   },
   "file_extension": ".py",
   "mimetype": "text/x-python",
   "name": "python",
   "nbconvert_exporter": "python",
   "pygments_lexer": "ipython3",
   "version": "3.7.1"
  }
 },
 "nbformat": 4,
 "nbformat_minor": 2
}

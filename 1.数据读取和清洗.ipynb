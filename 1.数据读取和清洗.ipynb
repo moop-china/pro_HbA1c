{
 "cells": [
  {
   "cell_type": "markdown",
   "metadata": {},
   "source": [
    "# <b>背景</b>\n",
    "\n",
    "目前妊娠期糖尿病（GDM）的诊断依靠糖耐量试验（OGTT），一种葡萄糖负荷试验，用以了解胰岛β细胞功能和机体对血糖的调节能力，是诊断糖尿病的确诊试验。诊断GDM的标准为空腹血糖≥5.1mmol/L，1小时≥10.0mmol/L，2小时大于等于8.5mmol/L。如果空腹血糖≥7.0mmol/L，或者2小时血糖大于≥11.1mmol/L，则诊断为糖尿病DM。\n",
    "\n",
    "糖化血红蛋白（HbA1c）是判断糖尿病患者血糖控制良好与否非常重要的一个指标，可以反映患者近8-12周的血糖控制情况。糖化血红蛋白（HbA1c）在妊娠期没有明确的参考值范围，当HbA1c≥6.5%，则诊断为DM。对于诊断GDM则没有参考值。\n",
    "\n",
    "# <b>任务</b>\n",
    "\n",
    "已有109031条产科检查数据，每条记录为一个检测项目的结果，可能是OGTT、HbA1c或其他检查项目数据。而为了判断HbA1c的诊断效果，我们需要将OGTT和HbA1c匹配。"
   ]
  },
  {
   "cell_type": "markdown",
   "metadata": {},
   "source": [
    "# <b>第一步 引包</b>"
   ]
  },
  {
   "cell_type": "code",
   "execution_count": 2,
   "metadata": {},
   "outputs": [],
   "source": [
    "#引包：引入所需python包\n",
    "import xlrd\n",
    "import os\n",
    "import re\n",
    "import pandas as pd\n",
    "import numpy as np\n",
    "from sklearn.metrics import roc_curve,auc\n",
    "import matplotlib as mpl\n",
    "from matplotlib import pyplot as plt\n",
    "from numpy import nan\n",
    "from sklearn import linear_model, datasets\n",
    "from sklearn.model_selection import train_test_split\n",
    "import seaborn as sns\n",
    "import time\n",
    "\n",
    "from scipy.stats import kstest\n",
    "from scipy import stats\n",
    "\n",
    "import warnings\n",
    "warnings.filterwarnings('ignore')"
   ]
  },
  {
   "cell_type": "markdown",
   "metadata": {},
   "source": [
    "# <b>第二步 读取多个excel文件数据</b>\n",
    "\n",
    "1）设置默认目录\n",
    "\n",
    "2）对目录dir下每个对象进行for循环操作；用if语句是过滤掉掉子目录；\n",
    "\n",
    "3）打开excel文件的第一表单，读取该表单的所有数据；并追加到数据框df中\n",
    "\n",
    "4）按字段“检查日期”升序排序\n"
   ]
  },
  {
   "cell_type": "code",
   "execution_count": 4,
   "metadata": {},
   "outputs": [
    {
     "name": "stdout",
     "output_type": "stream",
     "text": [
      "['2016.xls', '2017.xls', '2018.xls']\n"
     ]
    }
   ],
   "source": [
    "dir = r\"./data/\"\n",
    "print(os.listdir(dir))"
   ]
  },
  {
   "cell_type": "code",
   "execution_count": 33,
   "metadata": {},
   "outputs": [
    {
     "data": {
      "text/plain": [
       "(109031, 11)"
      ]
     },
     "execution_count": 33,
     "metadata": {},
     "output_type": "execute_result"
    }
   ],
   "source": [
    "df = pd.DataFrame()\n",
    "for file in os.listdir(dir) :\n",
    "    if not os.path.isdir(file):\n",
    "        data = xlrd.open_workbook(dir+file).sheets()[0]\n",
    "        df1 = pd.read_excel(dir+file,data.name,index_col=None,na_values=['9999'])\n",
    "        df = df.append(df1)  \n",
    "df = df.sort_values(by = \"检查日期\")\n",
    "df.shape"
   ]
  },
  {
   "cell_type": "markdown",
   "metadata": {},
   "source": [
    "# <b>第三步 预处理 </b>\n",
    "数据清理/预处理是一个非常繁琐的工作，根据业务需求和数据质量而不同，没有标准的流程。下面根据实列来了解常用的一些操作：\n",
    "\n",
    "<b>1）衍生字段</b>\n",
    "\n",
    "从“检查日期”中提取年份信息"
   ]
  },
  {
   "cell_type": "code",
   "execution_count": 34,
   "metadata": {},
   "outputs": [],
   "source": [
    "df[\"year\"] = pd.to_datetime(df[\"检查日期\"],format = \"%Y%m%d\").dt.year"
   ]
  },
  {
   "cell_type": "markdown",
   "metadata": {},
   "source": [
    "<b>2）数据转换 </b>\n",
    "\n",
    "从字符型字段“年龄”中提取整数型年龄信息“age”\n",
    "\n",
    " 删除原来的“年龄”字段"
   ]
  },
  {
   "cell_type": "code",
   "execution_count": 35,
   "metadata": {},
   "outputs": [],
   "source": [
    "df[\"age\"] = df[\"年龄\"].map(lambda x:x.rstrip(\"岁\")).astype(\"int\")\n",
    "df = df.drop([\"年龄\"],axis=1)"
   ]
  },
  {
   "cell_type": "markdown",
   "metadata": {},
   "source": [
    "<b>4）数据离散化 </b>\n",
    "\n",
    "设置分箱阀值[0,22,30,35,42,50]\n",
    "\n",
    "对年龄根据分箱阀值进行分段，衍生新变量“age_range”"
   ]
  },
  {
   "cell_type": "code",
   "execution_count": 36,
   "metadata": {},
   "outputs": [
    {
     "data": {
      "text/html": [
       "<div>\n",
       "<style scoped>\n",
       "    .dataframe tbody tr th:only-of-type {\n",
       "        vertical-align: middle;\n",
       "    }\n",
       "\n",
       "    .dataframe tbody tr th {\n",
       "        vertical-align: top;\n",
       "    }\n",
       "\n",
       "    .dataframe thead th {\n",
       "        text-align: right;\n",
       "    }\n",
       "</style>\n",
       "<table border=\"1\" class=\"dataframe\">\n",
       "  <thead>\n",
       "    <tr style=\"text-align: right;\">\n",
       "      <th></th>\n",
       "      <th></th>\n",
       "      <th>INSPECTION_ID</th>\n",
       "      <th>登记号</th>\n",
       "      <th>检查日期</th>\n",
       "      <th>检验目的</th>\n",
       "      <th>审核时间</th>\n",
       "      <th>项目名称</th>\n",
       "      <th>结果</th>\n",
       "      <th>单位</th>\n",
       "      <th>参考值</th>\n",
       "      <th>year</th>\n",
       "      <th>age</th>\n",
       "      <th>age_range</th>\n",
       "    </tr>\n",
       "  </thead>\n",
       "  <tbody>\n",
       "    <tr>\n",
       "      <th>0</th>\n",
       "      <td>1.0</td>\n",
       "      <td>20160104G0050013</td>\n",
       "      <td>20429751</td>\n",
       "      <td>20160104</td>\n",
       "      <td>75g糖耐量(空腹)+75g糖耐量（1H）+75g糖耐量（2H）</td>\n",
       "      <td>2016-01-04 13:06:25</td>\n",
       "      <td>75g一小时血糖(妊娠)</td>\n",
       "      <td>5.40</td>\n",
       "      <td>mmol/L</td>\n",
       "      <td>&lt;10.0</td>\n",
       "      <td>2016</td>\n",
       "      <td>25</td>\n",
       "      <td>(22.0, 30.0]</td>\n",
       "    </tr>\n",
       "    <tr>\n",
       "      <th>78</th>\n",
       "      <td>79.0</td>\n",
       "      <td>20160104G0050169</td>\n",
       "      <td>20457496</td>\n",
       "      <td>20160104</td>\n",
       "      <td>75g糖耐量(空腹)+75g糖耐量（1H）+75g糖耐量（2H）</td>\n",
       "      <td>2016-01-04 13:31:29</td>\n",
       "      <td>75g一小时血糖(妊娠)</td>\n",
       "      <td>8.50</td>\n",
       "      <td>mmol/L</td>\n",
       "      <td>&lt;10.0</td>\n",
       "      <td>2016</td>\n",
       "      <td>39</td>\n",
       "      <td>(35.0, 42.0]</td>\n",
       "    </tr>\n",
       "  </tbody>\n",
       "</table>\n",
       "</div>"
      ],
      "text/plain": [
       "             INSPECTION_ID       登记号      检查日期  \\\n",
       "0    1.0  20160104G0050013  20429751  20160104   \n",
       "78  79.0  20160104G0050169  20457496  20160104   \n",
       "\n",
       "                                检验目的                审核时间          项目名称    结果  \\\n",
       "0   75g糖耐量(空腹)+75g糖耐量（1H）+75g糖耐量（2H） 2016-01-04 13:06:25  75g一小时血糖(妊娠)  5.40   \n",
       "78  75g糖耐量(空腹)+75g糖耐量（1H）+75g糖耐量（2H） 2016-01-04 13:31:29  75g一小时血糖(妊娠)  8.50   \n",
       "\n",
       "        单位    参考值  year  age     age_range  \n",
       "0   mmol/L  <10.0  2016   25  (22.0, 30.0]  \n",
       "78  mmol/L  <10.0  2016   39  (35.0, 42.0]  "
      ]
     },
     "execution_count": 36,
     "metadata": {},
     "output_type": "execute_result"
    }
   ],
   "source": [
    "bin = [0,22,30,35,42,50]\n",
    "df[\"age_range\"] = pd.cut(df[\"age\"],bin).astype(\"str\")\n",
    "df.head(2)"
   ]
  },
  {
   "cell_type": "markdown",
   "metadata": {},
   "source": [
    "<b>5) 过滤数据</b>\n",
    "\n",
    "建一个列表values=【'75g一小时血糖(妊娠)','75g二小时血糖(妊娠)', '空腹血糖（妊娠）', '糖化血红蛋白A1c'】;\n",
    "\n",
    "筛选所有OGTT和HbA1c检测记录，赋值给数据框df;\n",
    "\n",
    "建一个所有做了HbA1c检测的列表list;\n",
    "\n",
    "筛选做过HbA1c检测的人群的所有OGTT和HbA1c记录，赋值给数据框df;\n",
    "\n",
    "筛选HbA1c检测记录，赋值给数据框HbA1c_ref(HbA1c检测记录）;\n",
    "\n",
    "筛选df检测记录，赋值给数据框df（OGTT检测记录）\n"
   ]
  },
  {
   "cell_type": "code",
   "execution_count": 37,
   "metadata": {},
   "outputs": [
    {
     "data": {
      "text/html": [
       "<div>\n",
       "<style scoped>\n",
       "    .dataframe tbody tr th:only-of-type {\n",
       "        vertical-align: middle;\n",
       "    }\n",
       "\n",
       "    .dataframe tbody tr th {\n",
       "        vertical-align: top;\n",
       "    }\n",
       "\n",
       "    .dataframe thead th {\n",
       "        text-align: right;\n",
       "    }\n",
       "</style>\n",
       "<table border=\"1\" class=\"dataframe\">\n",
       "  <thead>\n",
       "    <tr style=\"text-align: right;\">\n",
       "      <th></th>\n",
       "      <th></th>\n",
       "      <th>INSPECTION_ID</th>\n",
       "      <th>登记号</th>\n",
       "      <th>检查日期</th>\n",
       "      <th>检验目的</th>\n",
       "      <th>审核时间</th>\n",
       "      <th>项目名称</th>\n",
       "      <th>结果</th>\n",
       "      <th>单位</th>\n",
       "      <th>参考值</th>\n",
       "      <th>year</th>\n",
       "      <th>age</th>\n",
       "      <th>age_range</th>\n",
       "    </tr>\n",
       "  </thead>\n",
       "  <tbody>\n",
       "    <tr>\n",
       "      <th>107</th>\n",
       "      <td>108.0</td>\n",
       "      <td>20160104G0460006</td>\n",
       "      <td>20422685</td>\n",
       "      <td>20160104</td>\n",
       "      <td>糖化血红蛋白</td>\n",
       "      <td>2016-01-04 12:16:12</td>\n",
       "      <td>糖化血红蛋白A1c</td>\n",
       "      <td>5.50</td>\n",
       "      <td>%</td>\n",
       "      <td>4.1-6.8</td>\n",
       "      <td>2016</td>\n",
       "      <td>29</td>\n",
       "      <td>(22.0, 30.0]</td>\n",
       "    </tr>\n",
       "    <tr>\n",
       "      <th>106</th>\n",
       "      <td>107.0</td>\n",
       "      <td>20160104G0460003</td>\n",
       "      <td>20544169</td>\n",
       "      <td>20160104</td>\n",
       "      <td>糖化血红蛋白</td>\n",
       "      <td>2016-01-04 12:15:53</td>\n",
       "      <td>糖化血红蛋白A1c</td>\n",
       "      <td>6.30</td>\n",
       "      <td>%</td>\n",
       "      <td>4.1-6.8</td>\n",
       "      <td>2016</td>\n",
       "      <td>26</td>\n",
       "      <td>(22.0, 30.0]</td>\n",
       "    </tr>\n",
       "  </tbody>\n",
       "</table>\n",
       "</div>"
      ],
      "text/plain": [
       "               INSPECTION_ID       登记号      检查日期    检验目的                审核时间  \\\n",
       "107  108.0  20160104G0460006  20422685  20160104  糖化血红蛋白 2016-01-04 12:16:12   \n",
       "106  107.0  20160104G0460003  20544169  20160104  糖化血红蛋白 2016-01-04 12:15:53   \n",
       "\n",
       "          项目名称    结果 单位      参考值  year  age     age_range  \n",
       "107  糖化血红蛋白A1c  5.50  %  4.1-6.8  2016   29  (22.0, 30.0]  \n",
       "106  糖化血红蛋白A1c  6.30  %  4.1-6.8  2016   26  (22.0, 30.0]  "
      ]
     },
     "execution_count": 37,
     "metadata": {},
     "output_type": "execute_result"
    }
   ],
   "source": [
    "values = ['75g一小时血糖(妊娠)','75g二小时血糖(妊娠)', '空腹血糖（妊娠）', '糖化血红蛋白A1c'] #'75g一小时血糖','75g二小时血糖','空腹血糖']\n",
    "df = df.loc[df[\"项目名称\"].isin(values)]\n",
    "list = df.loc[df[\"项目名称\"] =='糖化血红蛋白A1c',\"登记号\" ]\n",
    "df = df.loc[df[\"登记号\"].isin(list)]\n",
    "values = [\"糖化血红蛋白A1c\"]\n",
    "HbA1c_ref = df.loc[df[\"项目名称\"].isin(values)]\n",
    "df = df.loc[df[\"项目名称\"] !='糖化血红蛋白A1c',: ]\n",
    "HbA1c_ref.head(2)"
   ]
  },
  {
   "cell_type": "markdown",
   "metadata": {},
   "source": [
    "<b> 6）数据合规 </b>\n",
    "\n",
    "检查日期字段取值是否合规，即是数值型字符串，将不符合规则的值作为缺失值处理，替换为“20000101”。"
   ]
  },
  {
   "cell_type": "code",
   "execution_count": 38,
   "metadata": {},
   "outputs": [],
   "source": [
    "def is_number(num):\n",
    "    pattern = re.compile(r'^[-+]?[-0-9]\\d*\\.\\d*|[-+]?\\.?[0-9]\\d*$')\n",
    "    result = pattern.match(num)\n",
    "    if result:\n",
    "        return True\n",
    "    else:\n",
    "        return False\n",
    "date_na = 20000101\n",
    "HbA1c_ref[\"检查日期\"] = HbA1c_ref[\"检查日期\"].apply(lambda x:np.where(is_number(str(x)),x,date_na))"
   ]
  },
  {
   "cell_type": "markdown",
   "metadata": {},
   "source": [
    "<b>7) 数据匹配</b>\n",
    "\n",
    "因同一体检者可能做过多次OGTT检测，在该案例中，我们假设HbA1c和最近一次的OGTT检测时，被检测者健康状态未发生改变，因此我们首先寻找做可作参考的OGTT的日期，记做字段OGTT_date。"
   ]
  },
  {
   "cell_type": "code",
   "execution_count": 39,
   "metadata": {},
   "outputs": [
    {
     "data": {
      "text/html": [
       "<div>\n",
       "<style scoped>\n",
       "    .dataframe tbody tr th:only-of-type {\n",
       "        vertical-align: middle;\n",
       "    }\n",
       "\n",
       "    .dataframe tbody tr th {\n",
       "        vertical-align: top;\n",
       "    }\n",
       "\n",
       "    .dataframe thead th {\n",
       "        text-align: right;\n",
       "    }\n",
       "</style>\n",
       "<table border=\"1\" class=\"dataframe\">\n",
       "  <thead>\n",
       "    <tr style=\"text-align: right;\">\n",
       "      <th></th>\n",
       "      <th></th>\n",
       "      <th>INSPECTION_ID</th>\n",
       "      <th>登记号</th>\n",
       "      <th>检查日期</th>\n",
       "      <th>检验目的</th>\n",
       "      <th>审核时间</th>\n",
       "      <th>项目名称</th>\n",
       "      <th>结果</th>\n",
       "      <th>单位</th>\n",
       "      <th>参考值</th>\n",
       "      <th>year</th>\n",
       "      <th>age</th>\n",
       "      <th>age_range</th>\n",
       "      <th>OGTT_date</th>\n",
       "    </tr>\n",
       "  </thead>\n",
       "  <tbody>\n",
       "    <tr>\n",
       "      <th>107</th>\n",
       "      <td>108.0</td>\n",
       "      <td>20160104G0460006</td>\n",
       "      <td>20422685</td>\n",
       "      <td>20160104</td>\n",
       "      <td>糖化血红蛋白</td>\n",
       "      <td>2016-01-04 12:16:12</td>\n",
       "      <td>糖化血红蛋白A1c</td>\n",
       "      <td>5.50</td>\n",
       "      <td>%</td>\n",
       "      <td>4.1-6.8</td>\n",
       "      <td>2016</td>\n",
       "      <td>29</td>\n",
       "      <td>(22.0, 30.0]</td>\n",
       "      <td>20160104</td>\n",
       "    </tr>\n",
       "    <tr>\n",
       "      <th>106</th>\n",
       "      <td>107.0</td>\n",
       "      <td>20160104G0460003</td>\n",
       "      <td>20544169</td>\n",
       "      <td>20160104</td>\n",
       "      <td>糖化血红蛋白</td>\n",
       "      <td>2016-01-04 12:15:53</td>\n",
       "      <td>糖化血红蛋白A1c</td>\n",
       "      <td>6.30</td>\n",
       "      <td>%</td>\n",
       "      <td>4.1-6.8</td>\n",
       "      <td>2016</td>\n",
       "      <td>26</td>\n",
       "      <td>(22.0, 30.0]</td>\n",
       "      <td>20000101</td>\n",
       "    </tr>\n",
       "  </tbody>\n",
       "</table>\n",
       "</div>"
      ],
      "text/plain": [
       "               INSPECTION_ID       登记号      检查日期    检验目的                审核时间  \\\n",
       "107  108.0  20160104G0460006  20422685  20160104  糖化血红蛋白 2016-01-04 12:16:12   \n",
       "106  107.0  20160104G0460003  20544169  20160104  糖化血红蛋白 2016-01-04 12:15:53   \n",
       "\n",
       "          项目名称    结果 单位      参考值  year  age     age_range OGTT_date  \n",
       "107  糖化血红蛋白A1c  5.50  %  4.1-6.8  2016   29  (22.0, 30.0]  20160104  \n",
       "106  糖化血红蛋白A1c  6.30  %  4.1-6.8  2016   26  (22.0, 30.0]  20000101  "
      ]
     },
     "execution_count": 39,
     "metadata": {},
     "output_type": "execute_result"
    }
   ],
   "source": [
    "HbA1c_ref[\"OGTT_date\"] = 0   #给了日期字段一个默认值\n",
    "#for index, row in HbA1c_ref.iterrows() :\n",
    "def setvalue(row,df):\n",
    "    id = row[\"登记号\"]       #HbA1c_ref数据框的“登记号”字段：做HbA1c检测者的登记号\n",
    "    date = row[\"检查日期\"]    #HbA1c_ref数据框的登记号：做HbA1c检测者的登记号\n",
    "    list1 = df.loc[(df[\"登记号\"]== id) & ( df[\"检查日期\"] < date) ,[\"检查日期\"]]  #之前，最近一次做OGTT检测的日期\n",
    "    if len(list1) :\n",
    "        date1 = np.max(list1)[0]\n",
    "    else:\n",
    "        date1 =date_na        \n",
    "    list2 = df.loc[(df[\"登记号\"]== id) & ( df[\"检查日期\"] >= date) ,[\"检查日期\"]]  #之后，最近一次做OGTT检测的日期 \n",
    "    if len(list2) :\n",
    "        date2 = np.min(list2)[0]  \n",
    "    else:\n",
    "        date2 =date_na  \n",
    "    diff1 = date-date1\n",
    "    diff2 = date2-date  \n",
    "\n",
    "    return np.where(np.min([diff1,diff2]) ==diff1,date1,date2)    # 最近一次，之前或之后\n",
    "HbA1c_ref[\"OGTT_date\"] = HbA1c_ref.apply(setvalue,axis=1,df = df) #填充每行的OGTT_date字段\n",
    "HbA1c_ref = HbA1c_ref.loc[~HbA1c_ref[\"OGTT_date\"].isna() & HbA1c_ref[\"OGTT_date\"]!=date_na ]  #删除不能找到OGTT检测日期的记录\n",
    "HbA1c_ref.head(2)"
   ]
  },
  {
   "cell_type": "markdown",
   "metadata": {},
   "source": [
    "<b>8. 数据填充 </b>\n",
    "\n",
    "确定了OGTT_date的日期，接下来我们将利用每行的“登记号”和“OGTT_date”来填补OGTT的检查结果字段：'空腹血糖（妊娠）','75g一小时血糖(妊娠)','75g二小时血糖(妊娠)',方便后面分析。"
   ]
  },
  {
   "cell_type": "code",
   "execution_count": 40,
   "metadata": {},
   "outputs": [
    {
     "data": {
      "text/html": [
       "<div>\n",
       "<style scoped>\n",
       "    .dataframe tbody tr th:only-of-type {\n",
       "        vertical-align: middle;\n",
       "    }\n",
       "\n",
       "    .dataframe tbody tr th {\n",
       "        vertical-align: top;\n",
       "    }\n",
       "\n",
       "    .dataframe thead th {\n",
       "        text-align: right;\n",
       "    }\n",
       "</style>\n",
       "<table border=\"1\" class=\"dataframe\">\n",
       "  <thead>\n",
       "    <tr style=\"text-align: right;\">\n",
       "      <th></th>\n",
       "      <th></th>\n",
       "      <th>INSPECTION_ID</th>\n",
       "      <th>登记号</th>\n",
       "      <th>检查日期</th>\n",
       "      <th>检验目的</th>\n",
       "      <th>审核时间</th>\n",
       "      <th>项目名称</th>\n",
       "      <th>结果</th>\n",
       "      <th>单位</th>\n",
       "      <th>参考值</th>\n",
       "      <th>year</th>\n",
       "      <th>age</th>\n",
       "      <th>age_range</th>\n",
       "      <th>OGTT_date</th>\n",
       "      <th>OGTT_0</th>\n",
       "      <th>OGTT_1</th>\n",
       "      <th>OGTT_2</th>\n",
       "    </tr>\n",
       "  </thead>\n",
       "  <tbody>\n",
       "    <tr>\n",
       "      <th>107</th>\n",
       "      <td>108.0</td>\n",
       "      <td>20160104G0460006</td>\n",
       "      <td>20422685</td>\n",
       "      <td>20160104</td>\n",
       "      <td>糖化血红蛋白</td>\n",
       "      <td>2016-01-04 12:16:12</td>\n",
       "      <td>糖化血红蛋白A1c</td>\n",
       "      <td>5.50</td>\n",
       "      <td>%</td>\n",
       "      <td>4.1-6.8</td>\n",
       "      <td>2016</td>\n",
       "      <td>29</td>\n",
       "      <td>(22.0, 30.0]</td>\n",
       "      <td>20160104</td>\n",
       "      <td>4.90</td>\n",
       "      <td>8.40</td>\n",
       "      <td>7.40</td>\n",
       "    </tr>\n",
       "    <tr>\n",
       "      <th>106</th>\n",
       "      <td>107.0</td>\n",
       "      <td>20160104G0460003</td>\n",
       "      <td>20544169</td>\n",
       "      <td>20160104</td>\n",
       "      <td>糖化血红蛋白</td>\n",
       "      <td>2016-01-04 12:15:53</td>\n",
       "      <td>糖化血红蛋白A1c</td>\n",
       "      <td>6.30</td>\n",
       "      <td>%</td>\n",
       "      <td>4.1-6.8</td>\n",
       "      <td>2016</td>\n",
       "      <td>26</td>\n",
       "      <td>(22.0, 30.0]</td>\n",
       "      <td>20000101</td>\n",
       "      <td>None</td>\n",
       "      <td>None</td>\n",
       "      <td>None</td>\n",
       "    </tr>\n",
       "  </tbody>\n",
       "</table>\n",
       "</div>"
      ],
      "text/plain": [
       "               INSPECTION_ID       登记号      检查日期    检验目的                审核时间  \\\n",
       "107  108.0  20160104G0460006  20422685  20160104  糖化血红蛋白 2016-01-04 12:16:12   \n",
       "106  107.0  20160104G0460003  20544169  20160104  糖化血红蛋白 2016-01-04 12:15:53   \n",
       "\n",
       "          项目名称    结果 单位      参考值  year  age     age_range OGTT_date OGTT_0  \\\n",
       "107  糖化血红蛋白A1c  5.50  %  4.1-6.8  2016   29  (22.0, 30.0]  20160104   4.90   \n",
       "106  糖化血红蛋白A1c  6.30  %  4.1-6.8  2016   26  (22.0, 30.0]  20000101   None   \n",
       "\n",
       "    OGTT_1 OGTT_2  \n",
       "107   8.40   7.40  \n",
       "106   None   None  "
      ]
     },
     "execution_count": 40,
     "metadata": {},
     "output_type": "execute_result"
    }
   ],
   "source": [
    "def set_OGTT(row,df,type):\n",
    "    id = row[\"登记号\"]\n",
    "    date = row[\"OGTT_date\"]\n",
    "    value =df.loc[(df[\"登记号\"]== id) & ( df[\"检查日期\"] ==date) & ( df[\"项目名称\"]==type ) ,[\"结果\"]] \n",
    "    try:\n",
    "        value = value.iloc[0,0]\n",
    "    except (Exception):\n",
    "        value = None\n",
    "        pass        \n",
    "    return value\n",
    "HbA1c_ref[\"OGTT_0\"] = HbA1c_ref.apply(set_OGTT,axis=1,df = df,type = \"空腹血糖（妊娠）\")  \n",
    "HbA1c_ref[\"OGTT_1\"] = HbA1c_ref.apply(set_OGTT,axis=1,df = df,type = \"75g一小时血糖(妊娠)\")\n",
    "HbA1c_ref[\"OGTT_2\"] = HbA1c_ref.apply(set_OGTT,axis=1,df = df,type = \"75g二小时血糖(妊娠)\")\n",
    "\n",
    "HbA1c_ref.head(2)"
   ]
  },
  {
   "cell_type": "markdown",
   "metadata": {},
   "source": [
    "<b> 9. 数据过滤和转换 </b>\n",
    "\n",
    "删除三个OGTT检测指标不完整的记录；\n",
    "\n",
    "将“结果”字段重命名为“HbA1c”；\n",
    "\n",
    "类型转换；"
   ]
  },
  {
   "cell_type": "code",
   "execution_count": 41,
   "metadata": {},
   "outputs": [],
   "source": [
    "HbA1c_ref = HbA1c_ref.loc[~HbA1c_ref[\"OGTT_0\"].isna() |~HbA1c_ref[\"OGTT_1\"].isna() |~HbA1c_ref[\"OGTT_2\"].isna()]  #去掉三个检测结果中有缺失值的行\n",
    "HbA1c_ref.rename(columns={\"结果\":\"HbA1c\"},inplace = True)  \n",
    "HbA1c_ref[\"HbA1c\"] = HbA1c_ref[\"HbA1c\"].astype(\"float\")    \n",
    "HbA1c_ref[\"OGTT_0\"] = HbA1c_ref[\"OGTT_0\"].astype(\"float\")\n",
    "HbA1c_ref[\"OGTT_1\"] = HbA1c_ref[\"OGTT_1\"].astype(\"float\")\n",
    "HbA1c_ref[\"OGTT_2\"] = HbA1c_ref[\"OGTT_2\"].astype(\"float\")\n",
    "#HbA1c_ref.shape[0]"
   ]
  },
  {
   "cell_type": "markdown",
   "metadata": {},
   "source": [
    "<b> 10. 衍生字段 </b>\n",
    "\n",
    "添加数据标签“STATUS”：根据OGTT检测的结果"
   ]
  },
  {
   "cell_type": "code",
   "execution_count": 42,
   "metadata": {},
   "outputs": [
    {
     "data": {
      "text/html": [
       "<div>\n",
       "<style scoped>\n",
       "    .dataframe tbody tr th:only-of-type {\n",
       "        vertical-align: middle;\n",
       "    }\n",
       "\n",
       "    .dataframe tbody tr th {\n",
       "        vertical-align: top;\n",
       "    }\n",
       "\n",
       "    .dataframe thead th {\n",
       "        text-align: right;\n",
       "    }\n",
       "</style>\n",
       "<table border=\"1\" class=\"dataframe\">\n",
       "  <thead>\n",
       "    <tr style=\"text-align: right;\">\n",
       "      <th></th>\n",
       "      <th></th>\n",
       "      <th>INSPECTION_ID</th>\n",
       "      <th>登记号</th>\n",
       "      <th>检查日期</th>\n",
       "      <th>检验目的</th>\n",
       "      <th>审核时间</th>\n",
       "      <th>项目名称</th>\n",
       "      <th>HbA1c</th>\n",
       "      <th>单位</th>\n",
       "      <th>参考值</th>\n",
       "      <th>year</th>\n",
       "      <th>age</th>\n",
       "      <th>age_range</th>\n",
       "      <th>OGTT_date</th>\n",
       "      <th>OGTT_0</th>\n",
       "      <th>OGTT_1</th>\n",
       "      <th>OGTT_2</th>\n",
       "      <th>STATUS</th>\n",
       "    </tr>\n",
       "  </thead>\n",
       "  <tbody>\n",
       "    <tr>\n",
       "      <th>107</th>\n",
       "      <td>108.0</td>\n",
       "      <td>20160104G0460006</td>\n",
       "      <td>20422685</td>\n",
       "      <td>20160104</td>\n",
       "      <td>糖化血红蛋白</td>\n",
       "      <td>2016-01-04 12:16:12</td>\n",
       "      <td>糖化血红蛋白A1c</td>\n",
       "      <td>5.5</td>\n",
       "      <td>%</td>\n",
       "      <td>4.1-6.8</td>\n",
       "      <td>2016</td>\n",
       "      <td>29</td>\n",
       "      <td>(22.0, 30.0]</td>\n",
       "      <td>20160104</td>\n",
       "      <td>4.9</td>\n",
       "      <td>8.4</td>\n",
       "      <td>7.4</td>\n",
       "      <td>health</td>\n",
       "    </tr>\n",
       "    <tr>\n",
       "      <th>219</th>\n",
       "      <td>220.0</td>\n",
       "      <td>20160107G0460006</td>\n",
       "      <td>20185957</td>\n",
       "      <td>20160107</td>\n",
       "      <td>糖化血红蛋白</td>\n",
       "      <td>2016-01-07 14:43:57</td>\n",
       "      <td>糖化血红蛋白A1c</td>\n",
       "      <td>5.2</td>\n",
       "      <td>%</td>\n",
       "      <td>4.1-6.8</td>\n",
       "      <td>2016</td>\n",
       "      <td>36</td>\n",
       "      <td>(35.0, 42.0]</td>\n",
       "      <td>20160107</td>\n",
       "      <td>4.8</td>\n",
       "      <td>7.4</td>\n",
       "      <td>5.3</td>\n",
       "      <td>health</td>\n",
       "    </tr>\n",
       "  </tbody>\n",
       "</table>\n",
       "</div>"
      ],
      "text/plain": [
       "               INSPECTION_ID       登记号      检查日期    检验目的                审核时间  \\\n",
       "107  108.0  20160104G0460006  20422685  20160104  糖化血红蛋白 2016-01-04 12:16:12   \n",
       "219  220.0  20160107G0460006  20185957  20160107  糖化血红蛋白 2016-01-07 14:43:57   \n",
       "\n",
       "          项目名称  HbA1c 单位      参考值  year  age     age_range OGTT_date  OGTT_0  \\\n",
       "107  糖化血红蛋白A1c    5.5  %  4.1-6.8  2016   29  (22.0, 30.0]  20160104     4.9   \n",
       "219  糖化血红蛋白A1c    5.2  %  4.1-6.8  2016   36  (35.0, 42.0]  20160107     4.8   \n",
       "\n",
       "     OGTT_1  OGTT_2  STATUS  \n",
       "107     8.4     7.4  health  \n",
       "219     7.4     5.3  health  "
      ]
     },
     "execution_count": 42,
     "metadata": {},
     "output_type": "execute_result"
    }
   ],
   "source": [
    "HbA1c_ref[\"STATUS\"] = \"health\"    # 定义一个字段“STATUS”,默认“health”健康，通过OGTT检测结果来判断是GDM还是DM\n",
    "HbA1c_ref.loc[((~HbA1c_ref[\"OGTT_1\"].isna()) & (HbA1c_ref[\"OGTT_1\"]>=10) ) |((~HbA1c_ref[\"OGTT_2\"].isna()) &  (HbA1c_ref[\"OGTT_2\"]>=8.5)) | ((~HbA1c_ref[\"OGTT_0\"].isna()) & (HbA1c_ref[\"OGTT_0\"]>=5.1 )) ,\"STATUS\"] = \"GDM\"\n",
    "HbA1c_ref.loc[((~HbA1c_ref[\"OGTT_2\"].isna()) &  (HbA1c_ref[\"OGTT_2\"]>=11.1)) | ((~HbA1c_ref[\"OGTT_0\"].isna()) & (HbA1c_ref[\"OGTT_0\"]>=7) ) , \"STATUS\"] = \"DM\"\n",
    "HbA1c_ref.head(2)"
   ]
  },
  {
   "cell_type": "markdown",
   "metadata": {},
   "source": [
    "# <b> 第四步  导出结果 </b>\n",
    "\n",
    "非必要步骤\n",
    "\n",
    "将中间过程报错为csv"
   ]
  },
  {
   "cell_type": "code",
   "execution_count": 43,
   "metadata": {},
   "outputs": [
    {
     "name": "stdout",
     "output_type": "stream",
     "text": [
      " Successfully saved ！！ \n"
     ]
    }
   ],
   "source": [
    "HbA1c_ref.to_csv(\"../HbA1c检测在妊娠期糖尿病筛查的应用价值/output/clean_data.csv\")  \n",
    "print(\" Successfully saved ！！ \")"
   ]
  },
  {
   "cell_type": "code",
   "execution_count": null,
   "metadata": {},
   "outputs": [],
   "source": []
  },
  {
   "cell_type": "code",
   "execution_count": null,
   "metadata": {},
   "outputs": [],
   "source": []
  }
 ],
 "metadata": {
  "kernelspec": {
   "display_name": "Python 3",
   "language": "python",
   "name": "python3"
  },
  "language_info": {
   "codemirror_mode": {
    "name": "ipython",
    "version": 3
   },
   "file_extension": ".py",
   "mimetype": "text/x-python",
   "name": "python",
   "nbconvert_exporter": "python",
   "pygments_lexer": "ipython3",
   "version": "3.7.1"
  }
 },
 "nbformat": 4,
 "nbformat_minor": 2
}

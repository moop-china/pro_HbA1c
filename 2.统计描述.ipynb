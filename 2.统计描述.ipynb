{
 "cells": [
  {
   "cell_type": "markdown",
   "metadata": {},
   "source": [
    "# <b>背景</b>\n",
    "\n",
    "目前妊娠期糖尿病（GDM）的诊断依靠糖耐量试验（OGTT），一种葡萄糖负荷试验，用以了解胰岛β细胞功能和机体对血糖的调节能力，是诊断糖尿病的确诊试验。诊断GDM的标准为空腹血糖≥5.1mmol/L，1小时≥10.0mmol/L，2小时大于等于8.5mmol/L。如果空腹血糖≥7.0mmol/L，或者2小时血糖大于≥11.1mmol/L，则诊断为糖尿病DM。\n",
    "\n",
    "糖化血红蛋白（HbA1c）是判断糖尿病患者血糖控制良好与否非常重要的一个指标，可以反映患者近8-12周的血糖控制情况。糖化血红蛋白（HbA1c）在妊娠期没有明确的参考值范围，当HbA1c≥6.5%，则诊断为DM。对于诊断GDM则没有参考值。\n",
    "\n",
    "# <b>任务</b>\n",
    "\n",
    "通过统计手段了解OGTT和HbA1c检测结果的基本情况。"
   ]
  },
  {
   "cell_type": "markdown",
   "metadata": {},
   "source": [
    "# <b>第一步 引包</b>"
   ]
  },
  {
   "cell_type": "code",
   "execution_count": 1,
   "metadata": {},
   "outputs": [],
   "source": [
    "#引包：引入所需python包\n",
    "import xlrd\n",
    "import os\n",
    "import re\n",
    "import pandas as pd\n",
    "import numpy as np\n",
    "from sklearn.metrics import roc_curve,auc\n",
    "import matplotlib as mpl\n",
    "from matplotlib import pyplot as plt\n",
    "from numpy import nan\n",
    "from sklearn import linear_model, datasets\n",
    "from sklearn.model_selection import train_test_split\n",
    "import seaborn as sns\n",
    "import time\n",
    "\n",
    "from scipy.stats import kstest\n",
    "from scipy import stats\n",
    "\n",
    "import warnings\n",
    "warnings.filterwarnings('ignore')"
   ]
  },
  {
   "cell_type": "markdown",
   "metadata": {},
   "source": [
    "# <b>第二步 获取数据源</b>\n",
    "设置默认文件目录\n",
    "\n",
    "读取csv文件"
   ]
  },
  {
   "cell_type": "code",
   "execution_count": 2,
   "metadata": {},
   "outputs": [
    {
     "name": "stdout",
     "output_type": "stream",
     "text": [
      "['clean_data.csv']\n"
     ]
    }
   ],
   "source": [
    "dir = r\"./output/\"\n",
    "print(os.listdir(dir))"
   ]
  },
  {
   "cell_type": "code",
   "execution_count": 38,
   "metadata": {},
   "outputs": [
    {
     "data": {
      "text/html": [
       "<div>\n",
       "<style scoped>\n",
       "    .dataframe tbody tr th:only-of-type {\n",
       "        vertical-align: middle;\n",
       "    }\n",
       "\n",
       "    .dataframe tbody tr th {\n",
       "        vertical-align: top;\n",
       "    }\n",
       "\n",
       "    .dataframe thead th {\n",
       "        text-align: right;\n",
       "    }\n",
       "</style>\n",
       "<table border=\"1\" class=\"dataframe\">\n",
       "  <thead>\n",
       "    <tr style=\"text-align: right;\">\n",
       "      <th></th>\n",
       "      <th>INSPECTION_ID</th>\n",
       "      <th>登记号</th>\n",
       "      <th>检查日期</th>\n",
       "      <th>检验目的</th>\n",
       "      <th>审核时间</th>\n",
       "      <th>项目名称</th>\n",
       "      <th>HbA1c</th>\n",
       "      <th>单位</th>\n",
       "      <th>参考值</th>\n",
       "      <th>year</th>\n",
       "      <th>age</th>\n",
       "      <th>age_range</th>\n",
       "      <th>OGTT_date</th>\n",
       "      <th>OGTT_0</th>\n",
       "      <th>OGTT_1</th>\n",
       "      <th>OGTT_2</th>\n",
       "      <th>STATUS</th>\n",
       "    </tr>\n",
       "  </thead>\n",
       "  <tbody>\n",
       "    <tr>\n",
       "      <th>107</th>\n",
       "      <td>20160104G0460006</td>\n",
       "      <td>20422685.0</td>\n",
       "      <td>20160104</td>\n",
       "      <td>糖化血红蛋白</td>\n",
       "      <td>2016-01-04 12:16:12</td>\n",
       "      <td>糖化血红蛋白A1c</td>\n",
       "      <td>5.5</td>\n",
       "      <td>%</td>\n",
       "      <td>4.1-6.8</td>\n",
       "      <td>2016</td>\n",
       "      <td>29</td>\n",
       "      <td>(22.0, 30.0]</td>\n",
       "      <td>20160104</td>\n",
       "      <td>4.9</td>\n",
       "      <td>8.4</td>\n",
       "      <td>7.4</td>\n",
       "      <td>health</td>\n",
       "    </tr>\n",
       "    <tr>\n",
       "      <th>219</th>\n",
       "      <td>20160107G0460006</td>\n",
       "      <td>20185957.0</td>\n",
       "      <td>20160107</td>\n",
       "      <td>糖化血红蛋白</td>\n",
       "      <td>2016-01-07 14:43:57</td>\n",
       "      <td>糖化血红蛋白A1c</td>\n",
       "      <td>5.2</td>\n",
       "      <td>%</td>\n",
       "      <td>4.1-6.8</td>\n",
       "      <td>2016</td>\n",
       "      <td>36</td>\n",
       "      <td>(35.0, 42.0]</td>\n",
       "      <td>20160107</td>\n",
       "      <td>4.8</td>\n",
       "      <td>7.4</td>\n",
       "      <td>5.3</td>\n",
       "      <td>health</td>\n",
       "    </tr>\n",
       "  </tbody>\n",
       "</table>\n",
       "</div>"
      ],
      "text/plain": [
       "        INSPECTION_ID         登记号      检查日期    检验目的                 审核时间  \\\n",
       "107  20160104G0460006  20422685.0  20160104  糖化血红蛋白  2016-01-04 12:16:12   \n",
       "219  20160107G0460006  20185957.0  20160107  糖化血红蛋白  2016-01-07 14:43:57   \n",
       "\n",
       "          项目名称  HbA1c 单位      参考值  year  age     age_range  OGTT_date  OGTT_0  \\\n",
       "107  糖化血红蛋白A1c    5.5  %  4.1-6.8  2016   29  (22.0, 30.0]   20160104     4.9   \n",
       "219  糖化血红蛋白A1c    5.2  %  4.1-6.8  2016   36  (35.0, 42.0]   20160107     4.8   \n",
       "\n",
       "     OGTT_1  OGTT_2  STATUS  \n",
       "107     8.4     7.4  health  \n",
       "219     7.4     5.3  health  "
      ]
     },
     "execution_count": 38,
     "metadata": {},
     "output_type": "execute_result"
    }
   ],
   "source": [
    "HbA1c_ref = pd.read_csv(dir+\"clean_data.csv\",index_col=0) #第一列为行索引\n",
    "HbA1c_ref = HbA1c_ref.drop(columns = HbA1c_ref.columns[0]) #删除不需要的列\n",
    "HbA1c_ref.head(2)"
   ]
  },
  {
   "cell_type": "markdown",
   "metadata": {},
   "source": [
    "# <b>第三步 统计描述</b>\n",
    "\n",
    "主要用到的python函数：\n",
    "\n",
    "pivot_table: 数据透视表,有四个最重要的参数index、values、columns、aggfunc。index是定义的透视表的行索引；values筛选需要进行计算的字段；Columns类似Index可以设置列层次字段，它不是一个必要参数，作为一种分割数据的可选方式 ；aggfunc设置对数据进行聚合时进行的函数操作列表；\n",
    "\n",
    "groupby： 分级分组统计函数。df.groupby(['key1','key2'])['col1'].mean() ,按照key1和key2分级分组，统计col1的平均值，当col1缺失时，计算整个数据框df的数值型字段。\n",
    "\n",
    "percentile: 该函数属于numpy包，pencentile( a , n),a是列表或数组，n是位置，取值0到100\n",
    "\n",
    "<b> 1） 各健康人群年龄情况 </b>\n",
    "\n",
    "数据透视表：pivot_table\n",
    "\n",
    "从结果来看：健康人群的年轻化，患DM的人群偏年长，而组内差异差不多。组间年龄的差别是否显著，后面会通过统计推断来验证。"
   ]
  },
  {
   "cell_type": "code",
   "execution_count": 39,
   "metadata": {},
   "outputs": [
    {
     "data": {
      "text/html": [
       "<div>\n",
       "<style scoped>\n",
       "    .dataframe tbody tr th:only-of-type {\n",
       "        vertical-align: middle;\n",
       "    }\n",
       "\n",
       "    .dataframe tbody tr th {\n",
       "        vertical-align: top;\n",
       "    }\n",
       "\n",
       "    .dataframe thead tr th {\n",
       "        text-align: left;\n",
       "    }\n",
       "\n",
       "    .dataframe thead tr:last-of-type th {\n",
       "        text-align: right;\n",
       "    }\n",
       "</style>\n",
       "<table border=\"1\" class=\"dataframe\">\n",
       "  <thead>\n",
       "    <tr>\n",
       "      <th></th>\n",
       "      <th>mean</th>\n",
       "      <th>std</th>\n",
       "    </tr>\n",
       "    <tr>\n",
       "      <th></th>\n",
       "      <th>age</th>\n",
       "      <th>age</th>\n",
       "    </tr>\n",
       "    <tr>\n",
       "      <th>STATUS</th>\n",
       "      <th></th>\n",
       "      <th></th>\n",
       "    </tr>\n",
       "  </thead>\n",
       "  <tbody>\n",
       "    <tr>\n",
       "      <th>DM</th>\n",
       "      <td>33.09</td>\n",
       "      <td>4.06</td>\n",
       "    </tr>\n",
       "    <tr>\n",
       "      <th>GDM</th>\n",
       "      <td>31.43</td>\n",
       "      <td>4.17</td>\n",
       "    </tr>\n",
       "    <tr>\n",
       "      <th>health</th>\n",
       "      <td>29.97</td>\n",
       "      <td>3.96</td>\n",
       "    </tr>\n",
       "  </tbody>\n",
       "</table>\n",
       "</div>"
      ],
      "text/plain": [
       "         mean   std\n",
       "          age   age\n",
       "STATUS             \n",
       "DM      33.09  4.06\n",
       "GDM     31.43  4.17\n",
       "health  29.97  3.96"
      ]
     },
     "execution_count": 39,
     "metadata": {},
     "output_type": "execute_result"
    }
   ],
   "source": [
    "stat_age = HbA1c_ref.pivot_table(index= [\"STATUS\"],values = [\"age\"] , aggfunc =[np.mean,np.std])\n",
    "stat_age = stat_age.apply(lambda x:round(x,2))\n",
    "stat_age"
   ]
  },
  {
   "cell_type": "markdown",
   "metadata": {},
   "source": [
    "<b> 2） 各年份患病情况  </b>\n",
    "\n",
    "数据透视表：pivot_table\n",
    "\n",
    "从结果来看：随着时间，DM和GDM患病率逐年下降。"
   ]
  },
  {
   "cell_type": "code",
   "execution_count": 40,
   "metadata": {},
   "outputs": [
    {
     "data": {
      "text/html": [
       "<div>\n",
       "<style scoped>\n",
       "    .dataframe tbody tr th:only-of-type {\n",
       "        vertical-align: middle;\n",
       "    }\n",
       "\n",
       "    .dataframe tbody tr th {\n",
       "        vertical-align: top;\n",
       "    }\n",
       "\n",
       "    .dataframe thead th {\n",
       "        text-align: right;\n",
       "    }\n",
       "</style>\n",
       "<table border=\"1\" class=\"dataframe\">\n",
       "  <thead>\n",
       "    <tr style=\"text-align: right;\">\n",
       "      <th>STATUS</th>\n",
       "      <th>DM</th>\n",
       "      <th>GDM</th>\n",
       "      <th>health</th>\n",
       "      <th>DM%</th>\n",
       "      <th>GDM%</th>\n",
       "    </tr>\n",
       "    <tr>\n",
       "      <th>year</th>\n",
       "      <th></th>\n",
       "      <th></th>\n",
       "      <th></th>\n",
       "      <th></th>\n",
       "      <th></th>\n",
       "    </tr>\n",
       "  </thead>\n",
       "  <tbody>\n",
       "    <tr>\n",
       "      <th>2016</th>\n",
       "      <td>18</td>\n",
       "      <td>305</td>\n",
       "      <td>840</td>\n",
       "      <td>1.547721</td>\n",
       "      <td>26.225279</td>\n",
       "    </tr>\n",
       "    <tr>\n",
       "      <th>2017</th>\n",
       "      <td>52</td>\n",
       "      <td>905</td>\n",
       "      <td>2723</td>\n",
       "      <td>1.413043</td>\n",
       "      <td>24.592391</td>\n",
       "    </tr>\n",
       "    <tr>\n",
       "      <th>2018</th>\n",
       "      <td>49</td>\n",
       "      <td>1157</td>\n",
       "      <td>3790</td>\n",
       "      <td>0.980785</td>\n",
       "      <td>23.158527</td>\n",
       "    </tr>\n",
       "    <tr>\n",
       "      <th>total</th>\n",
       "      <td>119</td>\n",
       "      <td>2367</td>\n",
       "      <td>7353</td>\n",
       "      <td>1.209473</td>\n",
       "      <td>24.057323</td>\n",
       "    </tr>\n",
       "  </tbody>\n",
       "</table>\n",
       "</div>"
      ],
      "text/plain": [
       "STATUS   DM   GDM  health       DM%       GDM%\n",
       "year                                          \n",
       "2016     18   305     840  1.547721  26.225279\n",
       "2017     52   905    2723  1.413043  24.592391\n",
       "2018     49  1157    3790  0.980785  23.158527\n",
       "total   119  2367    7353  1.209473  24.057323"
      ]
     },
     "execution_count": 40,
     "metadata": {},
     "output_type": "execute_result"
    }
   ],
   "source": [
    "HbA1c_ref[\"count\"] = 1\n",
    "stat_year = HbA1c_ref.pivot_table(index= \"year\",columns = \"STATUS\",values=\"count\", aggfunc =len,fill_value=0  )\n",
    "stat_year.loc[\"total\"]=[sum(stat_year[\"DM\"]),sum(stat_year[\"GDM\"]),sum(stat_year[\"health\"])]\n",
    "stat_year[\"DM%\"] = stat_year[\"DM\"]/(stat_year[\"DM\"]+stat_year[\"GDM\"]+stat_year[\"health\"])*100\n",
    "stat_year[\"GDM%\"] = stat_year[\"GDM\"]/(stat_year[\"DM\"]+stat_year[\"GDM\"]+stat_year[\"health\"])*100\n",
    "#print (\"各年份患病情况： \\n\", stat_year)\n",
    "stat_year"
   ]
  },
  {
   "cell_type": "markdown",
   "metadata": {},
   "source": [
    "<b> 3) 各年龄段患病情况 </b>\n",
    "\n",
    "数据透视表：pivot_table\n",
    "\n",
    "从结果来看：随着年龄段增长，患病风险增加。"
   ]
  },
  {
   "cell_type": "code",
   "execution_count": 41,
   "metadata": {},
   "outputs": [
    {
     "data": {
      "text/html": [
       "<div>\n",
       "<style scoped>\n",
       "    .dataframe tbody tr th:only-of-type {\n",
       "        vertical-align: middle;\n",
       "    }\n",
       "\n",
       "    .dataframe tbody tr th {\n",
       "        vertical-align: top;\n",
       "    }\n",
       "\n",
       "    .dataframe thead th {\n",
       "        text-align: right;\n",
       "    }\n",
       "</style>\n",
       "<table border=\"1\" class=\"dataframe\">\n",
       "  <thead>\n",
       "    <tr style=\"text-align: right;\">\n",
       "      <th>STATUS</th>\n",
       "      <th>DM</th>\n",
       "      <th>GDM</th>\n",
       "      <th>health</th>\n",
       "      <th>DM%</th>\n",
       "      <th>GDM%</th>\n",
       "    </tr>\n",
       "    <tr>\n",
       "      <th>age_range</th>\n",
       "      <th></th>\n",
       "      <th></th>\n",
       "      <th></th>\n",
       "      <th></th>\n",
       "      <th></th>\n",
       "    </tr>\n",
       "  </thead>\n",
       "  <tbody>\n",
       "    <tr>\n",
       "      <th>(0.0, 22.0]</th>\n",
       "      <td>0</td>\n",
       "      <td>10</td>\n",
       "      <td>116</td>\n",
       "      <td>0.000000</td>\n",
       "      <td>7.936508</td>\n",
       "    </tr>\n",
       "    <tr>\n",
       "      <th>(22.0, 30.0]</th>\n",
       "      <td>29</td>\n",
       "      <td>1035</td>\n",
       "      <td>4192</td>\n",
       "      <td>0.551750</td>\n",
       "      <td>19.691781</td>\n",
       "    </tr>\n",
       "    <tr>\n",
       "      <th>(30.0, 35.0]</th>\n",
       "      <td>53</td>\n",
       "      <td>936</td>\n",
       "      <td>2385</td>\n",
       "      <td>1.570836</td>\n",
       "      <td>27.741553</td>\n",
       "    </tr>\n",
       "    <tr>\n",
       "      <th>(35.0, 42.0]</th>\n",
       "      <td>36</td>\n",
       "      <td>363</td>\n",
       "      <td>644</td>\n",
       "      <td>3.451582</td>\n",
       "      <td>34.803452</td>\n",
       "    </tr>\n",
       "    <tr>\n",
       "      <th>(42.0, 50.0]</th>\n",
       "      <td>1</td>\n",
       "      <td>23</td>\n",
       "      <td>16</td>\n",
       "      <td>2.500000</td>\n",
       "      <td>57.500000</td>\n",
       "    </tr>\n",
       "  </tbody>\n",
       "</table>\n",
       "</div>"
      ],
      "text/plain": [
       "STATUS        DM   GDM  health       DM%       GDM%\n",
       "age_range                                          \n",
       "(0.0, 22.0]    0    10     116  0.000000   7.936508\n",
       "(22.0, 30.0]  29  1035    4192  0.551750  19.691781\n",
       "(30.0, 35.0]  53   936    2385  1.570836  27.741553\n",
       "(35.0, 42.0]  36   363     644  3.451582  34.803452\n",
       "(42.0, 50.0]   1    23      16  2.500000  57.500000"
      ]
     },
     "execution_count": 41,
     "metadata": {},
     "output_type": "execute_result"
    }
   ],
   "source": [
    "stat_age_range= HbA1c_ref.pivot_table(index= \"age_range\",columns = \"STATUS\",values=\"count\", aggfunc =len,fill_value=0  ) #数据透视表\n",
    "#stat_age_range.loc[\"total\"]=[sum(stat_age_range[\"DM\"]),sum(stat_age_range[\"GDM\"]),sum(stat_age_range[\"health\"])]\n",
    "stat_age_range[\"DM%\"] = stat_age_range[\"DM\"]/(stat_age_range[\"DM\"]+stat_age_range[\"GDM\"]+stat_age_range[\"health\"])*100\n",
    "stat_age_range[\"GDM%\"] = stat_age_range[\"GDM\"]/(stat_age_range[\"DM\"]+stat_age_range[\"GDM\"]+stat_age_range[\"health\"])*100\n",
    "stat_age_range"
   ]
  },
  {
   "cell_type": "markdown",
   "metadata": {},
   "source": [
    "<b> 4） 分位数 </b>\n",
    "\n",
    "百分位数： percentile"
   ]
  },
  {
   "cell_type": "code",
   "execution_count": 42,
   "metadata": {},
   "outputs": [
    {
     "name": "stdout",
     "output_type": "stream",
     "text": [
      "health 人群 age 的检查结果分位数：       17 [27. 30. 32.] 45\n",
      "health 人群 HbA1c 的检查结果分位数：       3.2 [4.7 4.9 5.1] 11.8\n",
      "health 人群 OGTT_0 的检查结果分位数：       2.8 [4.3 4.5 4.7] 5.0\n",
      "health 人群 OGTT_1 的检查结果分位数：       2.7 [6.3 7.2 8.2] 9.9\n",
      "health 人群 OGTT_2 的检查结果分位数：       2.8 [5.7 6.4 7.2] 8.4\n",
      "GDM 人群 age 的检查结果分位数：       20 [28. 31. 34.] 50\n",
      "GDM 人群 HbA1c 的检查结果分位数：       3.4 [4.9 5.1 5.4] 6.6\n",
      "GDM 人群 OGTT_0 的检查结果分位数：       3.5 [4.6 5.  5.2] 6.8\n",
      "GDM 人群 OGTT_1 的检查结果分位数：       4.6 [ 8.6  9.7 10.5] 14.5\n",
      "GDM 人群 OGTT_2 的检查结果分位数：       4.2 [7.6 8.6 9.2] 11.0\n",
      "DM 人群 age 的检查结果分位数：       25 [31. 32. 36.] 44\n",
      "DM 人群 HbA1c 的检查结果分位数：       4.2 [5.1 5.4 5.8] 7.3\n",
      "DM 人群 OGTT_0 的检查结果分位数：       2.9 [5.1 5.6 6.4] 11.4\n",
      "DM 人群 OGTT_1 的检查结果分位数：       8.5 [11.8 12.7 13.8] 20.8\n",
      "DM 人群 OGTT_2 的检查结果分位数：       11.1 [11.4  12.   12.85] 22.3\n"
     ]
    }
   ],
   "source": [
    "import numpy as np\n",
    "#print (HbA1c_ref.describe())\n",
    "for col in [\"health\",\"GDM\",\"DM\"]:\n",
    "    for type in [\"age\",\"HbA1c\",\"OGTT_0\",\"OGTT_1\",\"OGTT_2\"]:\n",
    "        list =HbA1c_ref[HbA1c_ref[\"STATUS\"]==col][type]\n",
    "        list = list[list.notnull()]        \n",
    "        result = np.percentile(list,(25,50,75),interpolation='midpoint')\n",
    "        print (col,\"人群\",type,\"的检查结果分位数：      \",min(list),result,max(list))\n",
    "        #print (\"min:\",min(list),\"max:\",max(list))"
   ]
  },
  {
   "cell_type": "markdown",
   "metadata": {},
   "source": [
    "#  <b>第四步 可视化展示 </b>\n",
    "可以通过可视化来直观了解数据分布情况。\n",
    "\n",
    "<b> 1） 柱状图 </b>\n",
    "\n",
    "先准备数据\n",
    "\n",
    "再作图"
   ]
  },
  {
   "cell_type": "code",
   "execution_count": 43,
   "metadata": {},
   "outputs": [
    {
     "name": "stdout",
     "output_type": "stream",
     "text": [
      "不同健康人群的检查结果均差  \n",
      "\n"
     ]
    },
    {
     "data": {
      "text/html": [
       "<div>\n",
       "<style scoped>\n",
       "    .dataframe tbody tr th:only-of-type {\n",
       "        vertical-align: middle;\n",
       "    }\n",
       "\n",
       "    .dataframe tbody tr th {\n",
       "        vertical-align: top;\n",
       "    }\n",
       "\n",
       "    .dataframe thead th {\n",
       "        text-align: right;\n",
       "    }\n",
       "</style>\n",
       "<table border=\"1\" class=\"dataframe\">\n",
       "  <thead>\n",
       "    <tr style=\"text-align: right;\">\n",
       "      <th></th>\n",
       "      <th>HbA1c</th>\n",
       "      <th>OGTT_0</th>\n",
       "      <th>OGTT_1</th>\n",
       "      <th>OGTT_2</th>\n",
       "    </tr>\n",
       "    <tr>\n",
       "      <th>STATUS</th>\n",
       "      <th></th>\n",
       "      <th></th>\n",
       "      <th></th>\n",
       "      <th></th>\n",
       "    </tr>\n",
       "  </thead>\n",
       "  <tbody>\n",
       "    <tr>\n",
       "      <th>DM</th>\n",
       "      <td>0.601889</td>\n",
       "      <td>1.397318</td>\n",
       "      <td>1.991634</td>\n",
       "      <td>1.866047</td>\n",
       "    </tr>\n",
       "    <tr>\n",
       "      <th>GDM</th>\n",
       "      <td>0.375688</td>\n",
       "      <td>0.456447</td>\n",
       "      <td>1.514800</td>\n",
       "      <td>1.244004</td>\n",
       "    </tr>\n",
       "    <tr>\n",
       "      <th>health</th>\n",
       "      <td>0.352142</td>\n",
       "      <td>0.274635</td>\n",
       "      <td>1.315708</td>\n",
       "      <td>0.983069</td>\n",
       "    </tr>\n",
       "  </tbody>\n",
       "</table>\n",
       "</div>"
      ],
      "text/plain": [
       "           HbA1c    OGTT_0    OGTT_1    OGTT_2\n",
       "STATUS                                        \n",
       "DM      0.601889  1.397318  1.991634  1.866047\n",
       "GDM     0.375688  0.456447  1.514800  1.244004\n",
       "health  0.352142  0.274635  1.315708  0.983069"
      ]
     },
     "execution_count": 43,
     "metadata": {},
     "output_type": "execute_result"
    }
   ],
   "source": [
    "stat_STATUS = HbA1c_ref.groupby(\"STATUS\")[\"HbA1c\",\"OGTT_0\",\"OGTT_1\",\"OGTT_2\"].std()  #分组统计 groupby\n",
    "stat_age = HbA1c_ref.pivot_table(index= \"age\",columns = \"STATUS\",values=\"count\", aggfunc =len,fill_value=0  ) # pivot_table数据透视表\n",
    "print(\"不同健康人群的检查结果均差  \\n\")\n",
    "stat_STATUS = pd.DataFrame(stat_STATUS.to_records())\n",
    "stat_STATUS.index = stat_STATUS[\"STATUS\"]\n",
    "stat_STATUS = stat_STATUS.drop([\"STATUS\"],axis=1)\n",
    "stat_STATUS"
   ]
  },
  {
   "cell_type": "code",
   "execution_count": 47,
   "metadata": {},
   "outputs": [
    {
     "name": "stdout",
     "output_type": "stream",
     "text": [
      "                         不同健康人群的患GDM&DM情况 \n",
      "\n"
     ]
    },
    {
     "data": {
      "text/plain": [
       "Text(0.5, 1.0, 'GDM&DM')"
      ]
     },
     "execution_count": 47,
     "metadata": {},
     "output_type": "execute_result"
    },
    {
     "data": {
      "image/png": "[encoded data removed]",
      "text/plain": [
       "<Figure size 864x432 with 1 Axes>"
      ]
     },
     "metadata": {
      "needs_background": "light"
     },
     "output_type": "display_data"
    }
   ],
   "source": [
    "print(\"                         不同健康人群的患GDM&DM情况 \\n\")\n",
    "plt.figure(figsize=(12,6))  # 设置图表大小\n",
    "\n",
    "names = [\"HbA1c\",\"OGTT_0\",\"OGTT_1\",\"OGTT_2\"]\n",
    "x = [0,1,2,3]\n",
    "total_width, n = 0.8, 3\n",
    "width = total_width / n\n",
    "a=plt.bar(x, stat_STATUS.iloc[0,], width=width,fc = 'blue')  \n",
    "for i in range(len(x)):  \n",
    "    x[i] = x[i] + width \n",
    "b=plt.bar(x,stat_STATUS.iloc[1,], width=width,fc = 'g') \n",
    "for i in range(len(x)):  \n",
    "    x[i] = x[i] + width \n",
    "c=plt.bar(x,stat_STATUS.iloc[2,], width=width,tick_label = names,fc = 'c') \n",
    "\n",
    "plt.title(u'GDM&DM')\n"
   ]
  },
  {
   "cell_type": "markdown",
   "metadata": {},
   "source": [
    "<b> 2) 饼图 </b>\n",
    "\n",
    "准备数据\n",
    "\n",
    "作图"
   ]
  },
  {
   "cell_type": "code",
   "execution_count": 45,
   "metadata": {},
   "outputs": [
    {
     "name": "stdout",
     "output_type": "stream",
     "text": [
      "                               各年龄段患DM（糖尿病）情况\n"
     ]
    },
    {
     "data": {
      "text/plain": [
       "<Figure size 1440x1440 with 0 Axes>"
      ]
     },
     "metadata": {},
     "output_type": "display_data"
    },
    {
     "data": {
      "image/png": "[encoded data removed]",
      "text/plain": [
       "<Figure size 432x432 with 1 Axes>"
      ]
     },
     "metadata": {},
     "output_type": "display_data"
    }
   ],
   "source": [
    "plt.figure(figsize=(20,20))\n",
    "stat_age_range = pd.DataFrame(stat_age_range.to_records())\n",
    "plt.figure(figsize=(6,6))\n",
    "test=stat_age_range.filter(items=[\"age_range\",\"DM%\"])\n",
    "plt.pie(x=test[\"DM%\"],labels = test[\"age_range\"],autopct=\"%3.1f%%\",shadow=True,labeldistance=1.1,startangle=90,pctdistance=0.6)\n",
    "print(\"                               各年龄段患DM（糖尿病）情况\")\n",
    "plt.show()"
   ]
  },
  {
   "cell_type": "code",
   "execution_count": null,
   "metadata": {},
   "outputs": [],
   "source": []
  }
 ],
 "metadata": {
  "kernelspec": {
   "display_name": "Python 3",
   "language": "python",
   "name": "python3"
  },
  "language_info": {
   "codemirror_mode": {
    "name": "ipython",
    "version": 3
   },
   "file_extension": ".py",
   "mimetype": "text/x-python",
   "name": "python",
   "nbconvert_exporter": "python",
   "pygments_lexer": "ipython3",
   "version": "3.7.1"
  }
 },
 "nbformat": 4,
 "nbformat_minor": 2
}
